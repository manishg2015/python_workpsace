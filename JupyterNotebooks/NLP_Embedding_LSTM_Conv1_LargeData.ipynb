{
  "nbformat": 4,
  "nbformat_minor": 0,
  "metadata": {
    "colab": {
      "name": "NLP Course - Week 3 Exercise Answer.ipynb",
      "version": "0.3.2",
      "provenance": []
    },
    "kernelspec": {
      "name": "python3",
      "display_name": "Python 3"
    },
    "accelerator": "GPU"
  },
  "cells": [
    {
      "cell_type": "code",
      "metadata": {
        "id": "hmA6EzkQJ5jt",
        "colab_type": "code",
        "colab": {}
      },
      "source": [
        "import json\n",
        "import tensorflow as tf\n",
        "import csv\n",
        "import random\n",
        "import numpy as np\n",
        "\n",
        "from tensorflow.keras.preprocessing.text import Tokenizer\n",
        "from tensorflow.keras.preprocessing.sequence import pad_sequences\n",
        "from tensorflow.keras.utils import to_categorical\n",
        "from tensorflow.keras import regularizers\n",
        "\n",
        "\n",
        "embedding_dim = 100\n",
        "max_length = 16\n",
        "trunc_type='post'\n",
        "padding_type='post'\n",
        "oov_tok = \"<OOV>\"\n",
        "training_size=160000\n",
        "test_portion=.1\n",
        "\n",
        "corpus = []\n"
      ],
      "execution_count": 0,
      "outputs": []
    },
    {
      "cell_type": "code",
      "metadata": {
        "id": "bM0l_dORKqE0",
        "colab_type": "code",
        "outputId": "d049d3d1-3e3c-4af4-d611-e114e7f51525",
        "colab": {
          "base_uri": "https://localhost:8080/",
          "height": 204
        }
      },
      "source": [
        "\n",
        "# Note that I cleaned the Stanford dataset to remove LATIN1 encoding to make it easier for Python CSV reader\n",
        "# You can do that yourself with:\n",
        "# iconv -f LATIN1 -t UTF8 training.1600000.processed.noemoticon.csv -o training_cleaned.csv\n",
        "# I then hosted it on my site to make it easier to use in this notebook\n",
        "\n",
        "!wget --no-check-certificate \\\n",
        "    https://storage.googleapis.com/laurencemoroney-blog.appspot.com/training_cleaned.csv \\\n",
        "    -O /tmp/training_cleaned.csv\n",
        "\n",
        "num_sentences = 0\n",
        "\n",
        "with open(\"/tmp/training_cleaned.csv\") as csvfile:\n",
        "    reader = csv.reader(csvfile, delimiter=',')\n",
        "    for row in reader:\n",
        "        list_item=[]\n",
        "        list_item.append(row[5])\n",
        "        this_label=row[0]\n",
        "        if this_label=='0':\n",
        "            list_item.append(0)\n",
        "        else:\n",
        "            list_item.append(1)\n",
        "        num_sentences = num_sentences + 1\n",
        "        corpus.append(list_item)\n",
        "\n",
        "\n"
      ],
      "execution_count": 9,
      "outputs": [
        {
          "output_type": "stream",
          "text": [
            "--2019-08-11 09:17:22--  https://storage.googleapis.com/laurencemoroney-blog.appspot.com/training_cleaned.csv\n",
            "Resolving storage.googleapis.com (storage.googleapis.com)... 74.125.20.128, 2607:f8b0:400e:c09::80\n",
            "Connecting to storage.googleapis.com (storage.googleapis.com)|74.125.20.128|:443... connected.\n",
            "HTTP request sent, awaiting response... 200 OK\n",
            "Length: 238942690 (228M) [application/octet-stream]\n",
            "Saving to: ‘/tmp/training_cleaned.csv’\n",
            "\n",
            "/tmp/training_clean 100%[===================>] 227.87M   161MB/s    in 1.4s    \n",
            "\n",
            "2019-08-11 09:17:24 (161 MB/s) - ‘/tmp/training_cleaned.csv’ saved [238942690/238942690]\n",
            "\n"
          ],
          "name": "stdout"
        }
      ]
    },
    {
      "cell_type": "code",
      "metadata": {
        "id": "3kxblBUjEUX-",
        "colab_type": "code",
        "outputId": "cccffb7b-27be-4c7c-9fac-49deb9945b31",
        "colab": {
          "base_uri": "https://localhost:8080/",
          "height": 68
        }
      },
      "source": [
        "print(num_sentences)\n",
        "print(len(corpus))\n",
        "print(corpus[1])\n",
        "\n",
        "# Expected Output:\n",
        "# 1600000\n",
        "# 1600000\n",
        "# [\"is upset that he can't update his Facebook by texting it... and might cry as a result  School today also. Blah!\", 0]"
      ],
      "execution_count": 10,
      "outputs": [
        {
          "output_type": "stream",
          "text": [
            "1600000\n",
            "1600000\n",
            "[\"is upset that he can't update his Facebook by texting it... and might cry as a result  School today also. Blah!\", 0]\n"
          ],
          "name": "stdout"
        }
      ]
    },
    {
      "cell_type": "code",
      "metadata": {
        "id": "ohOGz24lsNAD",
        "colab_type": "code",
        "colab": {}
      },
      "source": [
        "sentences=[]\n",
        "labels=[]\n",
        "random.shuffle(corpus)\n",
        "for x in range(training_size):\n",
        "    sentences.append(corpus[x][0])\n",
        "    labels.append(corpus[x][1])\n",
        "\n",
        "\n",
        "tokenizer = Tokenizer()\n",
        "tokenizer.fit_on_texts(sentences)\n",
        "\n",
        "word_index = tokenizer.word_index\n",
        "vocab_size=len(word_index)\n",
        "\n",
        "sequences = tokenizer.texts_to_sequences(sentences)\n",
        "padded = pad_sequences(sequences, maxlen=max_length, padding=padding_type, truncating=trunc_type)\n",
        "\n",
        "split = int(test_portion * training_size)\n",
        "\n",
        "test_sequences = padded[0:split]\n",
        "training_sequences = padded[split:training_size]\n",
        "test_labels = labels[0:split]\n",
        "training_labels = labels[split:training_size]"
      ],
      "execution_count": 0,
      "outputs": []
    },
    {
      "cell_type": "code",
      "metadata": {
        "id": "gIrtRem1En3N",
        "colab_type": "code",
        "outputId": "e0ab93ab-82c4-4b23-f6c4-77fe81d531c1",
        "colab": {
          "base_uri": "https://localhost:8080/",
          "height": 51
        }
      },
      "source": [
        "print(vocab_size)\n",
        "print(word_index['i'])\n",
        "# Expected Output\n",
        "# 138858\n",
        "# 1"
      ],
      "execution_count": 12,
      "outputs": [
        {
          "output_type": "stream",
          "text": [
            "138607\n",
            "1\n"
          ],
          "name": "stdout"
        }
      ]
    },
    {
      "cell_type": "code",
      "metadata": {
        "id": "C1zdgJkusRh0",
        "colab_type": "code",
        "outputId": "aa9976df-cdc3-4b07-cfe1-934c981fe373",
        "colab": {
          "base_uri": "https://localhost:8080/",
          "height": 204
        }
      },
      "source": [
        "# Note this is the 100 dimension version of GloVe from Stanford\n",
        "# I unzipped and hosted it on my site to make this notebook easier\n",
        "!wget --no-check-certificate \\\n",
        "    https://storage.googleapis.com/laurencemoroney-blog.appspot.com/glove.6B.100d.txt \\\n",
        "    -O /tmp/glove.6B.100d.txt\n",
        "embeddings_index = {};\n",
        "with open('/tmp/glove.6B.100d.txt') as f:\n",
        "    for line in f:\n",
        "        values = line.split();\n",
        "        word = values[0];\n",
        "        coefs = np.asarray(values[1:], dtype='float32');\n",
        "        embeddings_index[word] = coefs;\n",
        "\n",
        "embeddings_matrix = np.zeros((vocab_size+1, embedding_dim));\n",
        "for word, i in word_index.items():\n",
        "    embedding_vector = embeddings_index.get(word);\n",
        "    if embedding_vector is not None:\n",
        "        embeddings_matrix[i] = embedding_vector;"
      ],
      "execution_count": 13,
      "outputs": [
        {
          "output_type": "stream",
          "text": [
            "--2019-08-11 09:18:02--  https://storage.googleapis.com/laurencemoroney-blog.appspot.com/glove.6B.100d.txt\n",
            "Resolving storage.googleapis.com (storage.googleapis.com)... 74.125.20.128, 2607:f8b0:400e:c04::80\n",
            "Connecting to storage.googleapis.com (storage.googleapis.com)|74.125.20.128|:443... connected.\n",
            "HTTP request sent, awaiting response... 200 OK\n",
            "Length: 347116733 (331M) [text/plain]\n",
            "Saving to: ‘/tmp/glove.6B.100d.txt’\n",
            "\n",
            "/tmp/glove.6B.100d. 100%[===================>] 331.04M   116MB/s    in 2.9s    \n",
            "\n",
            "2019-08-11 09:18:05 (116 MB/s) - ‘/tmp/glove.6B.100d.txt’ saved [347116733/347116733]\n",
            "\n"
          ],
          "name": "stdout"
        }
      ]
    },
    {
      "cell_type": "code",
      "metadata": {
        "id": "71NLk_lpFLNt",
        "colab_type": "code",
        "outputId": "962497cf-1aee-47ef-da4b-ed445da5fb68",
        "colab": {
          "base_uri": "https://localhost:8080/",
          "height": 34
        }
      },
      "source": [
        "print(len(embeddings_matrix))\n",
        "# Expected Output\n",
        "# 138859"
      ],
      "execution_count": 14,
      "outputs": [
        {
          "output_type": "stream",
          "text": [
            "138608\n"
          ],
          "name": "stdout"
        }
      ]
    },
    {
      "cell_type": "code",
      "metadata": {
        "colab_type": "code",
        "id": "iKKvbuEBOGFz",
        "colab": {
          "base_uri": "https://localhost:8080/",
          "height": 1000
        },
        "outputId": "b5e6b54c-4390-4caf-9a81-989d0c889e81"
      },
      "source": [
        "model = tf.keras.Sequential([\n",
        "    tf.keras.layers.Embedding(vocab_size+1, embedding_dim, input_length=max_length, weights=[embeddings_matrix], trainable=False),\n",
        "    tf.keras.layers.Dropout(0.2),\n",
        "    tf.keras.layers.Conv1D(64, 5, activation='relu'),\n",
        "    tf.keras.layers.MaxPooling1D(pool_size=4),\n",
        "    tf.keras.layers.LSTM(64),\n",
        "    tf.keras.layers.Dense(1, activation='sigmoid')\n",
        "])\n",
        "model.compile(loss='binary_crossentropy',optimizer='adam',metrics=['accuracy'])\n",
        "model.summary()\n",
        "\n",
        "num_epochs = 50\n",
        "history = model.fit(training_sequences, training_labels, epochs=num_epochs, validation_data=(test_sequences, test_labels), verbose=2)\n",
        "\n",
        "print(\"Training Complete\")\n"
      ],
      "execution_count": 0,
      "outputs": [
        {
          "output_type": "stream",
          "text": [
            "WARNING: Logging before flag parsing goes to stderr.\n",
            "W0811 09:18:29.618273 139984731903872 deprecation.py:506] From /usr/local/lib/python3.6/dist-packages/tensorflow/python/keras/initializers.py:119: calling RandomUniform.__init__ (from tensorflow.python.ops.init_ops) with dtype is deprecated and will be removed in a future version.\n",
            "Instructions for updating:\n",
            "Call initializer instance with the dtype argument instead of passing it to the constructor\n",
            "W0811 09:18:29.629650 139984731903872 deprecation.py:506] From /usr/local/lib/python3.6/dist-packages/tensorflow/python/ops/init_ops.py:1251: calling VarianceScaling.__init__ (from tensorflow.python.ops.init_ops) with dtype is deprecated and will be removed in a future version.\n",
            "Instructions for updating:\n",
            "Call initializer instance with the dtype argument instead of passing it to the constructor\n",
            "W0811 09:18:33.113293 139984731903872 deprecation.py:323] From /usr/local/lib/python3.6/dist-packages/tensorflow/python/ops/nn_impl.py:180: add_dispatch_support.<locals>.wrapper (from tensorflow.python.ops.array_ops) is deprecated and will be removed in a future version.\n",
            "Instructions for updating:\n",
            "Use tf.where in 2.0, which has the same broadcast rule as np.where\n"
          ],
          "name": "stderr"
        },
        {
          "output_type": "stream",
          "text": [
            "Model: \"sequential\"\n",
            "_________________________________________________________________\n",
            "Layer (type)                 Output Shape              Param #   \n",
            "=================================================================\n",
            "embedding (Embedding)        (None, 16, 100)           13860800  \n",
            "_________________________________________________________________\n",
            "dropout (Dropout)            (None, 16, 100)           0         \n",
            "_________________________________________________________________\n",
            "conv1d (Conv1D)              (None, 12, 64)            32064     \n",
            "_________________________________________________________________\n",
            "max_pooling1d (MaxPooling1D) (None, 3, 64)             0         \n",
            "_________________________________________________________________\n",
            "lstm (LSTM)                  (None, 64)                33024     \n",
            "_________________________________________________________________\n",
            "dense (Dense)                (None, 1)                 65        \n",
            "=================================================================\n",
            "Total params: 13,925,953\n",
            "Trainable params: 65,153\n",
            "Non-trainable params: 13,860,800\n",
            "_________________________________________________________________\n",
            "Train on 144000 samples, validate on 16000 samples\n",
            "Epoch 1/50\n",
            "144000/144000 - 54s - loss: 0.5662 - acc: 0.6995 - val_loss: 0.5208 - val_acc: 0.7372\n",
            "Epoch 2/50\n",
            "144000/144000 - 51s - loss: 0.5247 - acc: 0.7335 - val_loss: 0.5166 - val_acc: 0.7365\n",
            "Epoch 3/50\n",
            "144000/144000 - 52s - loss: 0.5086 - acc: 0.7458 - val_loss: 0.5082 - val_acc: 0.7465\n",
            "Epoch 4/50\n",
            "144000/144000 - 53s - loss: 0.4977 - acc: 0.7513 - val_loss: 0.4978 - val_acc: 0.7510\n",
            "Epoch 5/50\n",
            "144000/144000 - 52s - loss: 0.4891 - acc: 0.7577 - val_loss: 0.4958 - val_acc: 0.7551\n",
            "Epoch 6/50\n",
            "144000/144000 - 53s - loss: 0.4823 - acc: 0.7633 - val_loss: 0.4987 - val_acc: 0.7521\n",
            "Epoch 7/50\n",
            "144000/144000 - 52s - loss: 0.4766 - acc: 0.7669 - val_loss: 0.5008 - val_acc: 0.7506\n",
            "Epoch 8/50\n",
            "144000/144000 - 52s - loss: 0.4717 - acc: 0.7704 - val_loss: 0.4976 - val_acc: 0.7573\n",
            "Epoch 9/50\n",
            "144000/144000 - 52s - loss: 0.4673 - acc: 0.7721 - val_loss: 0.4991 - val_acc: 0.7546\n",
            "Epoch 10/50\n",
            "144000/144000 - 52s - loss: 0.4631 - acc: 0.7751 - val_loss: 0.4950 - val_acc: 0.7577\n",
            "Epoch 11/50\n",
            "144000/144000 - 52s - loss: 0.4614 - acc: 0.7756 - val_loss: 0.5000 - val_acc: 0.7555\n",
            "Epoch 12/50\n",
            "144000/144000 - 51s - loss: 0.4569 - acc: 0.7789 - val_loss: 0.4986 - val_acc: 0.7576\n",
            "Epoch 13/50\n",
            "144000/144000 - 51s - loss: 0.4547 - acc: 0.7804 - val_loss: 0.5019 - val_acc: 0.7564\n",
            "Epoch 14/50\n",
            "144000/144000 - 51s - loss: 0.4521 - acc: 0.7830 - val_loss: 0.5043 - val_acc: 0.7551\n",
            "Epoch 15/50\n",
            "144000/144000 - 51s - loss: 0.4509 - acc: 0.7837 - val_loss: 0.5048 - val_acc: 0.7537\n",
            "Epoch 16/50\n",
            "144000/144000 - 51s - loss: 0.4482 - acc: 0.7843 - val_loss: 0.5084 - val_acc: 0.7529\n",
            "Epoch 17/50\n",
            "144000/144000 - 51s - loss: 0.4466 - acc: 0.7847 - val_loss: 0.5016 - val_acc: 0.7544\n",
            "Epoch 18/50\n",
            "144000/144000 - 51s - loss: 0.4460 - acc: 0.7869 - val_loss: 0.5058 - val_acc: 0.7545\n",
            "Epoch 19/50\n",
            "144000/144000 - 51s - loss: 0.4445 - acc: 0.7871 - val_loss: 0.5059 - val_acc: 0.7536\n",
            "Epoch 20/50\n",
            "144000/144000 - 51s - loss: 0.4423 - acc: 0.7873 - val_loss: 0.5102 - val_acc: 0.7527\n",
            "Epoch 21/50\n",
            "144000/144000 - 52s - loss: 0.4413 - acc: 0.7879 - val_loss: 0.5045 - val_acc: 0.7503\n",
            "Epoch 22/50\n",
            "144000/144000 - 51s - loss: 0.4401 - acc: 0.7892 - val_loss: 0.5119 - val_acc: 0.7507\n",
            "Epoch 23/50\n",
            "144000/144000 - 52s - loss: 0.4391 - acc: 0.7899 - val_loss: 0.5059 - val_acc: 0.7525\n",
            "Epoch 24/50\n",
            "144000/144000 - 52s - loss: 0.4389 - acc: 0.7898 - val_loss: 0.5096 - val_acc: 0.7522\n",
            "Epoch 25/50\n",
            "144000/144000 - 51s - loss: 0.4392 - acc: 0.7891 - val_loss: 0.5066 - val_acc: 0.7524\n",
            "Epoch 26/50\n",
            "144000/144000 - 52s - loss: 0.4360 - acc: 0.7915 - val_loss: 0.5127 - val_acc: 0.7466\n",
            "Epoch 27/50\n",
            "144000/144000 - 52s - loss: 0.4354 - acc: 0.7919 - val_loss: 0.5123 - val_acc: 0.7491\n",
            "Epoch 28/50\n",
            "144000/144000 - 52s - loss: 0.4348 - acc: 0.7920 - val_loss: 0.5123 - val_acc: 0.7517\n",
            "Epoch 29/50\n",
            "144000/144000 - 52s - loss: 0.4345 - acc: 0.7925 - val_loss: 0.5141 - val_acc: 0.7473\n",
            "Epoch 30/50\n",
            "144000/144000 - 51s - loss: 0.4348 - acc: 0.7923 - val_loss: 0.5115 - val_acc: 0.7517\n",
            "Epoch 31/50\n",
            "144000/144000 - 51s - loss: 0.4341 - acc: 0.7932 - val_loss: 0.5227 - val_acc: 0.7470\n",
            "Epoch 32/50\n",
            "144000/144000 - 51s - loss: 0.4352 - acc: 0.7933 - val_loss: 0.5116 - val_acc: 0.7500\n",
            "Epoch 33/50\n",
            "144000/144000 - 51s - loss: 0.4330 - acc: 0.7935 - val_loss: 0.5191 - val_acc: 0.7451\n",
            "Epoch 34/50\n",
            "144000/144000 - 51s - loss: 0.4320 - acc: 0.7934 - val_loss: 0.5153 - val_acc: 0.7501\n",
            "Epoch 35/50\n"
          ],
          "name": "stdout"
        }
      ]
    },
    {
      "cell_type": "code",
      "metadata": {
        "id": "qxju4ItJKO8F",
        "colab_type": "code",
        "colab": {}
      },
      "source": [
        "import matplotlib.image  as mpimg\n",
        "import matplotlib.pyplot as plt\n",
        "\n",
        "#-----------------------------------------------------------\n",
        "# Retrieve a list of list results on training and test data\n",
        "# sets for each training epoch\n",
        "#-----------------------------------------------------------\n",
        "acc=history.history['acc']\n",
        "val_acc=history.history['val_acc']\n",
        "loss=history.history['loss']\n",
        "val_loss=history.history['val_loss']\n",
        "\n",
        "epochs=range(len(acc)) # Get number of epochs\n",
        "\n",
        "#------------------------------------------------\n",
        "# Plot training and validation accuracy per epoch\n",
        "#------------------------------------------------\n",
        "plt.plot(epochs, acc, 'r')\n",
        "plt.plot(epochs, val_acc, 'b')\n",
        "plt.title('Training and validation accuracy')\n",
        "plt.xlabel(\"Epochs\")\n",
        "plt.ylabel(\"Accuracy\")\n",
        "plt.legend([\"Accuracy\", \"Validation Accuracy\"])\n",
        "\n",
        "plt.figure()\n",
        "\n",
        "#------------------------------------------------\n",
        "# Plot training and validation loss per epoch\n",
        "#------------------------------------------------\n",
        "plt.plot(epochs, loss, 'r')\n",
        "plt.plot(epochs, val_loss, 'b')\n",
        "plt.title('Training and validation loss')\n",
        "plt.xlabel(\"Epochs\")\n",
        "plt.ylabel(\"Loss\")\n",
        "plt.legend([\"Loss\", \"Validation Loss\"])\n",
        "\n",
        "plt.figure()\n",
        "\n",
        "\n",
        "# Expected Output\n",
        "# A chart where the validation loss does not increase sharply!"
      ],
      "execution_count": 0,
      "outputs": []
    }
  ]
}