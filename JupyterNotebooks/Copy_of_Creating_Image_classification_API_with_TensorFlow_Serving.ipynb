{
  "nbformat": 4,
  "nbformat_minor": 0,
  "metadata": {
    "colab": {
      "name": "Copy of Creating Image classification API with TensorFlow Serving.ipynb",
      "version": "0.3.2",
      "provenance": [],
      "collapsed_sections": [],
      "toc_visible": true
    },
    "kernelspec": {
      "name": "python3",
      "display_name": "Python 3"
    },
    "accelerator": "GPU"
  },
  "cells": [
    {
      "cell_type": "markdown",
      "metadata": {
        "id": "yCrzPgLp7W1h",
        "colab_type": "text"
      },
      "source": [
        "## Stage 1: Install dependencies and setting up GPU environment"
      ]
    },
    {
      "cell_type": "code",
      "metadata": {
        "id": "w0KGbZuk7T7F",
        "colab_type": "code",
        "outputId": "fc5d58a8-09af-4bb5-e755-f42cf8f30075",
        "colab": {
          "base_uri": "https://localhost:8080/",
          "height": 122
        }
      },
      "source": [
        "!echo \"deb [arch=amd64] http://storage.googleapis.com/tensorflow-serving-apt stable tensorflow-model-server tensorflow-model-server-universal\" | sudo tee /etc/apt/sources.list.d/tensorflow-serving.list && curl https://storage.googleapis.com/tensorflow-serving-apt/tensorflow-serving.release.pub.gpg | sudo apt-key add -"
      ],
      "execution_count": 32,
      "outputs": [
        {
          "output_type": "stream",
          "text": [
            "deb [arch=amd64] http://storage.googleapis.com/tensorflow-serving-apt stable tensorflow-model-server tensorflow-model-server-universal\n",
            "  % Total    % Received % Xferd  Average Speed   Time    Time     Time  Current\n",
            "                                 Dload  Upload   Total   Spent    Left  Speed\n",
            "\r  0     0    0     0    0     0      0      0 --:--:-- --:--:-- --:--:--     0\r100  2943  100  2943    0     0   130k      0 --:--:-- --:--:-- --:--:--  130k\n",
            "OK\n"
          ],
          "name": "stdout"
        }
      ]
    },
    {
      "cell_type": "code",
      "metadata": {
        "id": "-AoEpKnD94Lj",
        "colab_type": "code",
        "outputId": "bb3336ff-3a76-4570-adf1-5efca86b4dae",
        "colab": {
          "base_uri": "https://localhost:8080/",
          "height": 513
        }
      },
      "source": [
        "!apt-get update & apt-get install tensorflow-model-server"
      ],
      "execution_count": 33,
      "outputs": [
        {
          "output_type": "stream",
          "text": [
            "\rReading package lists... 0%\r\r0% [Working]\rReading package lists... 0%\r\r            \rHit:1 http://storage.googleapis.com/tensorflow-serving-apt stable InRelease\n",
            "\r0% [Connecting to archive.ubuntu.com] [Connecting to security.ubuntu.com (91.18\r0% [1 InRelease gpgv 3,012 B] [Connecting to archive.ubuntu.com] [Connecting to\rReading package lists... 0%\r\rReading package lists... 7%\r\rReading package lists... 7%\r\r                                                                               \rIgn:2 https://developer.download.nvidia.com/compute/cuda/repos/ubuntu1804/x86_64  InRelease\n",
            "\r0% [1 InRelease gpgv 3,012 B] [Connecting to archive.ubuntu.com (91.189.88.24)]\rReading package lists... 7%\r\rReading package lists... 7%\r\r                                                                               \rHit:3 http://ppa.launchpad.net/graphics-drivers/ppa/ubuntu bionic InRelease\n",
            "\r0% [1 InRelease gpgv 3,012 B] [Connecting to archive.ubuntu.com (91.189.88.24)]\r                                                                               \rIgn:4 https://developer.download.nvidia.com/compute/machine-learning/repos/ubuntu1804/x86_64  InRelease\n",
            "\r0% [1 InRelease gpgv 3,012 B] [Waiting for headers] [Connecting to security.ubu\r                                                                               \rHit:5 https://developer.download.nvidia.com/compute/cuda/repos/ubuntu1804/x86_64  Release\n",
            "\r0% [1 InRelease gpgv 3,012 B] [Waiting for headers] [Connecting to security.ubu\r                                                                               \rHit:6 https://developer.download.nvidia.com/compute/machine-learning/repos/ubuntu1804/x86_64  Release\n",
            "\r0% [1 InRelease gpgv 3,012 B] [Waiting for headers] [Connecting to security.ubu\r                                                                               \rHit:7 http://archive.ubuntu.com/ubuntu bionic InRelease\n",
            "\r0% [1 InRelease gpgv 3,012 B] [Waiting for headers] [Connecting to security.ubu\r                                                                               \rHit:8 https://cloud.r-project.org/bin/linux/ubuntu bionic-cran35/ InRelease\n",
            "\r0% [1 InRelease gpgv 3,012 B] [Waiting for headers] [Connecting to security.ubu\r0% [Waiting for headers] [Connecting to security.ubuntu.com (91.189.88.162)] [W\r0% [3 InRelease gpgv 21.3 kB] [Waiting for headers] [Connecting to security.ubu\r                                                                               \rHit:9 http://ppa.launchpad.net/marutter/c2d4u3.5/ubuntu bionic InRelease\n",
            "\r                                                                               \r0% [3 InRelease gpgv 21.3 kB] [Waiting for headers] [Waiting for headers]\r                                                                         \rHit:10 http://archive.ubuntu.com/ubuntu bionic-updates InRelease\n",
            "\r0% [3 InRelease gpgv 21.3 kB] [Waiting for headers] [Waiting for headers]\r                                                                         \rHit:11 http://security.ubuntu.com/ubuntu bionic-security InRelease\n",
            "Hit:12 http://archive.ubuntu.com/ubuntu bionic-backports InRelease\n",
            "Reading package lists... Done\n",
            "Building dependency tree       \n",
            "Reading state information... Done\n",
            "0% [10 InRelease gpgv 88.7 kB]The following package was automatically installed and is no longer required:\n",
            "  libnvidia-common-410\n",
            "Use 'apt autoremove' to remove it.\n",
            "The following NEW packages will be installed:\n",
            "  tensorflow-model-server\n",
            "0 upgraded, 1 newly installed, 0 to remove and 46 not upgraded.\n",
            "Need to get 151 MB of archives.\n",
            "After this operation, 0 B of additional disk space will be used.\n",
            "Get:1 http://storage.googleapis.com/tensorflow-serving-apt stable/tensorflow-model-server amd64 tensorflow-model-server all 1.14.0 [151 MB]\n",
            "Reading package lists... Done\n",
            "Fetched 151 MB in 3s (46.3 MB/s)\n",
            "E: Failed to fetch http://storage.googleapis.com/tensorflow-serving-apt/pool/tensorflow-model-server/t/tensorflow-model-server/tensorflow-model-server_1.14.0_all.deb  rename failed, No such file or directory (/var/cache/apt/archives/partial/tensorflow-model-server_1.14.0_all.deb -> /var/cache/apt/archives/tensorflow-model-server_1.14.0_all.deb).\n",
            "E: Unable to fetch some archives, maybe run apt-get update or try with --fix-missing?\n"
          ],
          "name": "stdout"
        }
      ]
    },
    {
      "cell_type": "code",
      "metadata": {
        "id": "4U854LMSP6S_",
        "colab_type": "code",
        "colab": {
          "base_uri": "https://localhost:8080/",
          "height": 221
        },
        "outputId": "83876323-82a1-44bc-ba1f-22044d37a05c"
      },
      "source": [
        "!apt-get remove tensorflow-model-server"
      ],
      "execution_count": 1,
      "outputs": [
        {
          "output_type": "stream",
          "text": [
            "Reading package lists... Done\n",
            "Building dependency tree       \n",
            "Reading state information... Done\n",
            "The following package was automatically installed and is no longer required:\n",
            "  libnvidia-common-410\n",
            "Use 'apt autoremove' to remove it.\n",
            "The following packages will be REMOVED:\n",
            "  tensorflow-model-server\n",
            "0 upgraded, 0 newly installed, 1 to remove and 5 not upgraded.\n",
            "After this operation, 0 B of additional disk space will be used.\n",
            "(Reading database ... 131014 files and directories currently installed.)\n",
            "Removing tensorflow-model-server (1.14.0) ...\n"
          ],
          "name": "stdout"
        }
      ]
    },
    {
      "cell_type": "code",
      "metadata": {
        "id": "cABWH7IEP6eE",
        "colab_type": "code",
        "colab": {
          "base_uri": "https://localhost:8080/",
          "height": 122
        },
        "outputId": "6c0e933b-fc8a-4d32-b907-cd2aeb0fcd6f"
      },
      "source": [
        "\n",
        "\n",
        "! echo \"deb [arch=amd64] http://storage.googleapis.com/tensorflow-serving-apt stable tensorflow-model-server tensorflow-model-server-universal\" | sudo tee /etc/apt/sources.list.d/tensorflow-serving.list && \\\n",
        "curl https://storage.googleapis.com/tensorflow-serving-apt/tensorflow-serving.release.pub.gpg | sudo apt-key add -"
      ],
      "execution_count": 2,
      "outputs": [
        {
          "output_type": "stream",
          "text": [
            "deb [arch=amd64] http://storage.googleapis.com/tensorflow-serving-apt stable tensorflow-model-server tensorflow-model-server-universal\n",
            "  % Total    % Received % Xferd  Average Speed   Time    Time     Time  Current\n",
            "                                 Dload  Upload   Total   Spent    Left  Speed\n",
            "\r  0     0    0     0    0     0      0      0 --:--:-- --:--:-- --:--:--     0\r100  2943  100  2943    0     0    99k      0 --:--:-- --:--:-- --:--:--   99k\n",
            "OK\n"
          ],
          "name": "stdout"
        }
      ]
    },
    {
      "cell_type": "code",
      "metadata": {
        "id": "raVqz9vGP6h9",
        "colab_type": "code",
        "colab": {
          "base_uri": "https://localhost:8080/",
          "height": 564
        },
        "outputId": "1b190cba-c504-48de-e788-0c9df7527f15"
      },
      "source": [
        "! apt-get update && apt-get install tensorflow-model-server"
      ],
      "execution_count": 3,
      "outputs": [
        {
          "output_type": "stream",
          "text": [
            "\r0% [Working]\r            \rHit:1 http://storage.googleapis.com/tensorflow-serving-apt stable InRelease\n",
            "\r0% [Connecting to security.ubuntu.com (91.189.88.31)] [Connecting to cloud.r-pr\r0% [1 InRelease gpgv 3,012 B] [Connecting to archive.ubuntu.com] [Connecting to\r                                                                               \rIgn:2 https://developer.download.nvidia.com/compute/cuda/repos/ubuntu1804/x86_64  InRelease\n",
            "\r0% [1 InRelease gpgv 3,012 B] [Waiting for headers] [Waiting for headers] [Conn\r                                                                               \rHit:3 http://ppa.launchpad.net/graphics-drivers/ppa/ubuntu bionic InRelease\n",
            "\r0% [1 InRelease gpgv 3,012 B] [Waiting for headers] [Waiting for headers] [Conn\r                                                                               \rHit:4 http://security.ubuntu.com/ubuntu bionic-security InRelease\n",
            "\r0% [1 InRelease gpgv 3,012 B] [Waiting for headers] [Connected to cloud.r-proje\r                                                                               \rHit:5 http://archive.ubuntu.com/ubuntu bionic InRelease\n",
            "\r0% [1 InRelease gpgv 3,012 B] [Waiting for headers] [Connected to cloud.r-proje\r0% [Waiting for headers] [Connected to cloud.r-project.org (13.226.42.121)] [Wa\r0% [3 InRelease gpgv 21.3 kB] [Waiting for headers] [Connected to cloud.r-proje\r                                                                               \rIgn:6 https://developer.download.nvidia.com/compute/machine-learning/repos/ubuntu1804/x86_64  InRelease\n",
            "\r0% [3 InRelease gpgv 21.3 kB] [Waiting for headers] [Connected to cloud.r-proje\r                                                                               \rHit:7 https://developer.download.nvidia.com/compute/cuda/repos/ubuntu1804/x86_64  Release\n",
            "\r0% [3 InRelease gpgv 21.3 kB] [Waiting for headers] [Connected to cloud.r-proje\r                                                                               \rHit:8 https://developer.download.nvidia.com/compute/machine-learning/repos/ubuntu1804/x86_64  Release\n",
            "\r0% [3 InRelease gpgv 21.3 kB] [Waiting for headers] [Connected to cloud.r-proje\r                                                                               \rHit:9 https://cloud.r-project.org/bin/linux/ubuntu bionic-cran35/ InRelease\n",
            "\r                                                                               \r0% [3 InRelease gpgv 21.3 kB] [Waiting for headers] [Waiting for headers]\r                                                                         \rHit:10 http://archive.ubuntu.com/ubuntu bionic-updates InRelease\n",
            "\r0% [3 InRelease gpgv 21.3 kB] [Waiting for headers] [Waiting for headers]\r                                                                         \rHit:11 http://ppa.launchpad.net/marutter/c2d4u3.5/ubuntu bionic InRelease\n",
            "Hit:12 http://archive.ubuntu.com/ubuntu bionic-backports InRelease\n",
            "Reading package lists... Done\n",
            "Reading package lists... Done\n",
            "Building dependency tree       \n",
            "Reading state information... Done\n",
            "The following package was automatically installed and is no longer required:\n",
            "  libnvidia-common-410\n",
            "Use 'apt autoremove' to remove it.\n",
            "The following NEW packages will be installed:\n",
            "  tensorflow-model-server\n",
            "0 upgraded, 1 newly installed, 0 to remove and 5 not upgraded.\n",
            "Need to get 151 MB of archives.\n",
            "After this operation, 0 B of additional disk space will be used.\n",
            "Get:1 http://storage.googleapis.com/tensorflow-serving-apt stable/tensorflow-model-server amd64 tensorflow-model-server all 1.14.0 [151 MB]\n",
            "Fetched 151 MB in 2s (62.3 MB/s)\n",
            "Selecting previously unselected package tensorflow-model-server.\n",
            "(Reading database ... 131013 files and directories currently installed.)\n",
            "Preparing to unpack .../tensorflow-model-server_1.14.0_all.deb ...\n",
            "Unpacking tensorflow-model-server (1.14.0) ...\n",
            "Setting up tensorflow-model-server (1.14.0) ...\n"
          ],
          "name": "stdout"
        }
      ]
    },
    {
      "cell_type": "code",
      "metadata": {
        "id": "tiQyJAReP6lj",
        "colab_type": "code",
        "colab": {
          "base_uri": "https://localhost:8080/",
          "height": 204
        },
        "outputId": "46bd6fb6-dcac-4afd-98c1-3d6e93176d2c"
      },
      "source": [
        "! apt-get upgrade tensorflow-model-server"
      ],
      "execution_count": 4,
      "outputs": [
        {
          "output_type": "stream",
          "text": [
            "Reading package lists... Done\n",
            "Building dependency tree       \n",
            "Reading state information... Done\n",
            "tensorflow-model-server is already the newest version (1.14.0).\n",
            "Calculating upgrade... Done\n",
            "The following package was automatically installed and is no longer required:\n",
            "  libnvidia-common-410\n",
            "Use 'apt autoremove' to remove it.\n",
            "The following packages have been kept back:\n",
            "  libcudnn7 libcudnn7-dev libnccl-dev libnccl2 r-cran-devtools\n",
            "0 upgraded, 0 newly installed, 0 to remove and 5 not upgraded.\n"
          ],
          "name": "stdout"
        }
      ]
    },
    {
      "cell_type": "code",
      "metadata": {
        "id": "a1cAehxr-M9p",
        "colab_type": "code",
        "outputId": "82de2d83-0668-49fe-a755-8163768fd398",
        "colab": {
          "base_uri": "https://localhost:8080/",
          "height": 377
        }
      },
      "source": [
        "!pip install tensorflow-gpu==1.14"
      ],
      "execution_count": 5,
      "outputs": [
        {
          "output_type": "stream",
          "text": [
            "Requirement already satisfied: tensorflow-gpu==1.14 in /usr/local/lib/python3.6/dist-packages (1.14.0)\n",
            "Requirement already satisfied: tensorflow-estimator<1.15.0rc0,>=1.14.0rc0 in /usr/local/lib/python3.6/dist-packages (from tensorflow-gpu==1.14) (1.14.0)\n",
            "Requirement already satisfied: keras-preprocessing>=1.0.5 in /usr/local/lib/python3.6/dist-packages (from tensorflow-gpu==1.14) (1.1.0)\n",
            "Requirement already satisfied: wheel>=0.26 in /usr/local/lib/python3.6/dist-packages (from tensorflow-gpu==1.14) (0.33.4)\n",
            "Requirement already satisfied: astor>=0.6.0 in /usr/local/lib/python3.6/dist-packages (from tensorflow-gpu==1.14) (0.8.0)\n",
            "Requirement already satisfied: numpy<2.0,>=1.14.5 in /usr/local/lib/python3.6/dist-packages (from tensorflow-gpu==1.14) (1.16.4)\n",
            "Requirement already satisfied: six>=1.10.0 in /usr/local/lib/python3.6/dist-packages (from tensorflow-gpu==1.14) (1.12.0)\n",
            "Requirement already satisfied: termcolor>=1.1.0 in /usr/local/lib/python3.6/dist-packages (from tensorflow-gpu==1.14) (1.1.0)\n",
            "Requirement already satisfied: gast>=0.2.0 in /usr/local/lib/python3.6/dist-packages (from tensorflow-gpu==1.14) (0.2.2)\n",
            "Requirement already satisfied: keras-applications>=1.0.6 in /usr/local/lib/python3.6/dist-packages (from tensorflow-gpu==1.14) (1.0.8)\n",
            "Requirement already satisfied: absl-py>=0.7.0 in /usr/local/lib/python3.6/dist-packages (from tensorflow-gpu==1.14) (0.7.1)\n",
            "Requirement already satisfied: protobuf>=3.6.1 in /usr/local/lib/python3.6/dist-packages (from tensorflow-gpu==1.14) (3.7.1)\n",
            "Requirement already satisfied: tensorboard<1.15.0,>=1.14.0 in /usr/local/lib/python3.6/dist-packages (from tensorflow-gpu==1.14) (1.14.0)\n",
            "Requirement already satisfied: wrapt>=1.11.1 in /usr/local/lib/python3.6/dist-packages (from tensorflow-gpu==1.14) (1.11.2)\n",
            "Requirement already satisfied: google-pasta>=0.1.6 in /usr/local/lib/python3.6/dist-packages (from tensorflow-gpu==1.14) (0.1.7)\n",
            "Requirement already satisfied: grpcio>=1.8.6 in /usr/local/lib/python3.6/dist-packages (from tensorflow-gpu==1.14) (1.15.0)\n",
            "Requirement already satisfied: h5py in /usr/local/lib/python3.6/dist-packages (from keras-applications>=1.0.6->tensorflow-gpu==1.14) (2.8.0)\n",
            "Requirement already satisfied: setuptools in /usr/local/lib/python3.6/dist-packages (from protobuf>=3.6.1->tensorflow-gpu==1.14) (41.0.1)\n",
            "Requirement already satisfied: markdown>=2.6.8 in /usr/local/lib/python3.6/dist-packages (from tensorboard<1.15.0,>=1.14.0->tensorflow-gpu==1.14) (3.1.1)\n",
            "Requirement already satisfied: werkzeug>=0.11.15 in /usr/local/lib/python3.6/dist-packages (from tensorboard<1.15.0,>=1.14.0->tensorflow-gpu==1.14) (0.15.4)\n"
          ],
          "name": "stdout"
        }
      ]
    },
    {
      "cell_type": "code",
      "metadata": {
        "id": "zfxOPCl7-Wp7",
        "colab_type": "code",
        "outputId": "8c263510-d983-42ec-8b05-8b02e471c043",
        "colab": {
          "base_uri": "https://localhost:8080/",
          "height": 122
        }
      },
      "source": [
        "!pip install requests"
      ],
      "execution_count": 6,
      "outputs": [
        {
          "output_type": "stream",
          "text": [
            "Requirement already satisfied: requests in /usr/local/lib/python3.6/dist-packages (2.21.0)\n",
            "Requirement already satisfied: idna<2.9,>=2.5 in /usr/local/lib/python3.6/dist-packages (from requests) (2.8)\n",
            "Requirement already satisfied: certifi>=2017.4.17 in /usr/local/lib/python3.6/dist-packages (from requests) (2019.6.16)\n",
            "Requirement already satisfied: chardet<3.1.0,>=3.0.2 in /usr/local/lib/python3.6/dist-packages (from requests) (3.0.4)\n",
            "Requirement already satisfied: urllib3<1.25,>=1.21.1 in /usr/local/lib/python3.6/dist-packages (from requests) (1.24.3)\n"
          ],
          "name": "stdout"
        }
      ]
    },
    {
      "cell_type": "markdown",
      "metadata": {
        "id": "qsgbM_R2-ud_",
        "colab_type": "text"
      },
      "source": [
        "## Stage 2: Import project dependencies"
      ]
    },
    {
      "cell_type": "code",
      "metadata": {
        "id": "Y3taHerg-nkS",
        "colab_type": "code",
        "outputId": "1b8c4902-1cee-4d0f-c4b8-6991bf95fd59",
        "colab": {
          "base_uri": "https://localhost:8080/",
          "height": 34
        }
      },
      "source": [
        "import os\n",
        "import json\n",
        "import random\n",
        "import requests\n",
        "import subprocess\n",
        "import numpy as np\n",
        "import tensorflow as tf\n",
        "import matplotlib.pyplot as plt\n",
        "\n",
        "from tensorflow.keras.datasets import cifar10\n",
        "\n",
        "%matplotlib inline\n",
        "tf.__version__"
      ],
      "execution_count": 7,
      "outputs": [
        {
          "output_type": "execute_result",
          "data": {
            "text/plain": [
              "'1.14.0'"
            ]
          },
          "metadata": {
            "tags": []
          },
          "execution_count": 7
        }
      ]
    },
    {
      "cell_type": "markdown",
      "metadata": {
        "id": "90mWV1g6_TSt",
        "colab_type": "text"
      },
      "source": [
        "## Stage 3: Dataset preprocessing"
      ]
    },
    {
      "cell_type": "markdown",
      "metadata": {
        "id": "dJsURBeA_XEe",
        "colab_type": "text"
      },
      "source": [
        "### Loading the dataset"
      ]
    },
    {
      "cell_type": "code",
      "metadata": {
        "id": "FVgkziGT_RQZ",
        "colab_type": "code",
        "colab": {}
      },
      "source": [
        "(X_train, y_train), (X_test, y_test) = cifar10.load_data()"
      ],
      "execution_count": 0,
      "outputs": []
    },
    {
      "cell_type": "code",
      "metadata": {
        "id": "hqOyARxY_kC2",
        "colab_type": "code",
        "colab": {}
      },
      "source": [
        "class_names = ['airplane', 'automobile', 'bird', 'cat', 'deer', 'dog', 'frog', 'horse', 'ship', 'truck']"
      ],
      "execution_count": 0,
      "outputs": []
    },
    {
      "cell_type": "markdown",
      "metadata": {
        "id": "B_adA5GI_ZGK",
        "colab_type": "text"
      },
      "source": [
        "### Image normalization"
      ]
    },
    {
      "cell_type": "code",
      "metadata": {
        "id": "VK4HUwLC_akD",
        "colab_type": "code",
        "colab": {}
      },
      "source": [
        "X_train = X_train / 255.0\n",
        "X_test = X_test / 255.0"
      ],
      "execution_count": 0,
      "outputs": []
    },
    {
      "cell_type": "code",
      "metadata": {
        "id": "Q2A1OrRg_bD8",
        "colab_type": "code",
        "outputId": "d3cbde2d-8f6e-495d-ce1a-bc56efc0ebf6",
        "colab": {
          "base_uri": "https://localhost:8080/",
          "height": 34
        }
      },
      "source": [
        "X_train.shape"
      ],
      "execution_count": 11,
      "outputs": [
        {
          "output_type": "execute_result",
          "data": {
            "text/plain": [
              "(50000, 32, 32, 3)"
            ]
          },
          "metadata": {
            "tags": []
          },
          "execution_count": 11
        }
      ]
    },
    {
      "cell_type": "markdown",
      "metadata": {
        "id": "HO6nL_9sBLPo",
        "colab_type": "text"
      },
      "source": [
        "## Stage 4: Defining the model\n",
        "\n",
        "NOTE: We are using the model from the Section for Convolutional neural networks"
      ]
    },
    {
      "cell_type": "code",
      "metadata": {
        "id": "FHyAvU8OA_aq",
        "colab_type": "code",
        "outputId": "630d3dba-ca21-4b5b-c5b3-585c17d48175",
        "colab": {
          "base_uri": "https://localhost:8080/",
          "height": 105
        }
      },
      "source": [
        "model = tf.keras.models.Sequential()\n",
        "model.add(tf.keras.layers.Conv2D(filters=32, kernel_size=3, padding=\"same\", activation=\"relu\", input_shape=[32, 32, 3]))\n",
        "model.add(tf.keras.layers.Conv2D(filters=32, kernel_size=3, padding=\"same\", activation=\"relu\"))\n",
        "model.add(tf.keras.layers.MaxPool2D(pool_size=2, strides=2, padding='valid'))\n",
        "model.add(tf.keras.layers.Conv2D(filters=64, kernel_size=3, padding=\"same\", activation=\"relu\"))\n",
        "model.add(tf.keras.layers.Conv2D(filters=64, kernel_size=3, padding=\"same\", activation=\"relu\"))\n",
        "model.add(tf.keras.layers.MaxPool2D(pool_size=2, strides=2, padding='valid'))\n",
        "model.add(tf.keras.layers.Flatten())\n",
        "model.add(tf.keras.layers.Dense(units=128, activation='relu'))\n",
        "model.add(tf.keras.layers.Dense(units=10, activation='softmax'))"
      ],
      "execution_count": 12,
      "outputs": [
        {
          "output_type": "stream",
          "text": [
            "WARNING: Logging before flag parsing goes to stderr.\n",
            "W0718 09:00:59.461357 139669360801664 deprecation.py:506] From /usr/local/lib/python3.6/dist-packages/tensorflow/python/ops/init_ops.py:1251: calling VarianceScaling.__init__ (from tensorflow.python.ops.init_ops) with dtype is deprecated and will be removed in a future version.\n",
            "Instructions for updating:\n",
            "Call initializer instance with the dtype argument instead of passing it to the constructor\n"
          ],
          "name": "stderr"
        }
      ]
    },
    {
      "cell_type": "markdown",
      "metadata": {
        "id": "J-7vFhykBgMj",
        "colab_type": "text"
      },
      "source": [
        "### Compiling the model"
      ]
    },
    {
      "cell_type": "code",
      "metadata": {
        "id": "5nqrVFn3BkeS",
        "colab_type": "code",
        "colab": {}
      },
      "source": [
        "model.compile(optimizer=tf.train.AdamOptimizer(learning_rate=0.001), \n",
        "              loss='sparse_categorical_crossentropy', \n",
        "              metrics=['sparse_categorical_accuracy'])"
      ],
      "execution_count": 0,
      "outputs": []
    },
    {
      "cell_type": "markdown",
      "metadata": {
        "id": "JJ1X_hgBBmx9",
        "colab_type": "text"
      },
      "source": [
        "### Training the model"
      ]
    },
    {
      "cell_type": "code",
      "metadata": {
        "id": "I7FSeHUkBpUq",
        "colab_type": "code",
        "outputId": "c2644137-2c0f-4b6e-f6f6-9304aaffd7f0",
        "colab": {
          "base_uri": "https://localhost:8080/",
          "height": 374
        }
      },
      "source": [
        "model.fit(X_train, \n",
        "          y_train, \n",
        "          batch_size=128, \n",
        "          epochs=10)"
      ],
      "execution_count": 14,
      "outputs": [
        {
          "output_type": "stream",
          "text": [
            "Epoch 1/10\n",
            "50000/50000 [==============================] - 11s 214us/sample - loss: 1.4630 - sparse_categorical_accuracy: 0.4716\n",
            "Epoch 2/10\n",
            "50000/50000 [==============================] - 9s 189us/sample - loss: 1.0317 - sparse_categorical_accuracy: 0.6347\n",
            "Epoch 3/10\n",
            "50000/50000 [==============================] - 9s 188us/sample - loss: 0.8590 - sparse_categorical_accuracy: 0.7002\n",
            "Epoch 4/10\n",
            "50000/50000 [==============================] - 10s 191us/sample - loss: 0.7352 - sparse_categorical_accuracy: 0.7431\n",
            "Epoch 5/10\n",
            "50000/50000 [==============================] - 9s 188us/sample - loss: 0.6341 - sparse_categorical_accuracy: 0.7790\n",
            "Epoch 6/10\n",
            "50000/50000 [==============================] - 9s 188us/sample - loss: 0.5483 - sparse_categorical_accuracy: 0.8085\n",
            "Epoch 7/10\n",
            "50000/50000 [==============================] - 9s 189us/sample - loss: 0.4611 - sparse_categorical_accuracy: 0.8390\n",
            "Epoch 8/10\n",
            "50000/50000 [==============================] - 9s 188us/sample - loss: 0.3869 - sparse_categorical_accuracy: 0.8653\n",
            "Epoch 9/10\n",
            "50000/50000 [==============================] - 9s 189us/sample - loss: 0.3163 - sparse_categorical_accuracy: 0.8893\n",
            "Epoch 10/10\n",
            "50000/50000 [==============================] - 9s 187us/sample - loss: 0.2521 - sparse_categorical_accuracy: 0.9105\n"
          ],
          "name": "stdout"
        },
        {
          "output_type": "execute_result",
          "data": {
            "text/plain": [
              "<tensorflow.python.keras.callbacks.History at 0x7f06e5cb3898>"
            ]
          },
          "metadata": {
            "tags": []
          },
          "execution_count": 14
        }
      ]
    },
    {
      "cell_type": "markdown",
      "metadata": {
        "id": "g6k_gnv5BqdT",
        "colab_type": "text"
      },
      "source": [
        "### Model evaluation"
      ]
    },
    {
      "cell_type": "code",
      "metadata": {
        "id": "l0nHalVeBtAy",
        "colab_type": "code",
        "outputId": "d1c7339c-8485-4836-cb02-7925c96aee23",
        "colab": {
          "base_uri": "https://localhost:8080/",
          "height": 34
        }
      },
      "source": [
        "test_loss, test_accuracy = model.evaluate(X_test, y_test)"
      ],
      "execution_count": 15,
      "outputs": [
        {
          "output_type": "stream",
          "text": [
            "10000/10000 [==============================] - 2s 177us/sample - loss: 0.9892 - sparse_categorical_accuracy: 0.7303\n"
          ],
          "name": "stdout"
        }
      ]
    },
    {
      "cell_type": "code",
      "metadata": {
        "id": "u9q7jsTuBuxT",
        "colab_type": "code",
        "outputId": "072f9938-4333-4046-ad5c-16fa3d5e5e53",
        "colab": {
          "base_uri": "https://localhost:8080/",
          "height": 34
        }
      },
      "source": [
        "print(\"Test accuracy is {}\".format(test_accuracy))"
      ],
      "execution_count": 16,
      "outputs": [
        {
          "output_type": "stream",
          "text": [
            "Test accuracy is 0.7303000092506409\n"
          ],
          "name": "stdout"
        }
      ]
    },
    {
      "cell_type": "markdown",
      "metadata": {
        "id": "945L3-2rDjFe",
        "colab_type": "text"
      },
      "source": [
        "## Stage 5: Saving the model for production"
      ]
    },
    {
      "cell_type": "markdown",
      "metadata": {
        "id": "5a5uCiniDmgY",
        "colab_type": "text"
      },
      "source": [
        "### Creating the directory for the model"
      ]
    },
    {
      "cell_type": "code",
      "metadata": {
        "id": "YonroqRrC3sM",
        "colab_type": "code",
        "colab": {}
      },
      "source": [
        "MODEL_DIR = \"model/\"\n",
        "version = 1"
      ],
      "execution_count": 0,
      "outputs": []
    },
    {
      "cell_type": "code",
      "metadata": {
        "id": "07NyMUGYEMNF",
        "colab_type": "code",
        "outputId": "cc7d1e85-bd03-4e25-f602-c04b3ba874c4",
        "colab": {
          "base_uri": "https://localhost:8080/",
          "height": 34
        }
      },
      "source": [
        "export_path = os.path.join(MODEL_DIR, str(version))\n",
        "export_path"
      ],
      "execution_count": 18,
      "outputs": [
        {
          "output_type": "execute_result",
          "data": {
            "text/plain": [
              "'model/1'"
            ]
          },
          "metadata": {
            "tags": []
          },
          "execution_count": 18
        }
      ]
    },
    {
      "cell_type": "code",
      "metadata": {
        "id": "jln7YavbEczA",
        "colab_type": "code",
        "colab": {}
      },
      "source": [
        "if os.path.isdir(export_path):\n",
        "    !rm -r {export_path}"
      ],
      "execution_count": 0,
      "outputs": []
    },
    {
      "cell_type": "markdown",
      "metadata": {
        "id": "0RA2HuIUDrDQ",
        "colab_type": "text"
      },
      "source": [
        "### Saving the model for the TensorFlow Serving"
      ]
    },
    {
      "cell_type": "code",
      "metadata": {
        "id": "19DG8IkIDv4S",
        "colab_type": "code",
        "outputId": "0b237321-409c-4c78-da47-62872b8a7ba3",
        "colab": {
          "base_uri": "https://localhost:8080/",
          "height": 139
        }
      },
      "source": [
        "tf.saved_model.simple_save(tf.keras.backend.get_session(), export_dir=export_path, inputs={\"input_image\":model.input}, outputs={t.name:t for t in model.outputs})"
      ],
      "execution_count": 20,
      "outputs": [
        {
          "output_type": "stream",
          "text": [
            "W0718 09:03:10.441000 139669360801664 deprecation.py:323] From <ipython-input-20-f70a5d463003>:1: simple_save (from tensorflow.python.saved_model.simple_save) is deprecated and will be removed in a future version.\n",
            "Instructions for updating:\n",
            "This function will only be available through the v1 compatibility library as tf.compat.v1.saved_model.simple_save.\n",
            "W0718 09:03:10.446579 139669360801664 deprecation.py:323] From /usr/local/lib/python3.6/dist-packages/tensorflow/python/saved_model/signature_def_utils_impl.py:201: build_tensor_info (from tensorflow.python.saved_model.utils_impl) is deprecated and will be removed in a future version.\n",
            "Instructions for updating:\n",
            "This function will only be available through the v1 compatibility library as tf.compat.v1.saved_model.utils.build_tensor_info or tf.compat.v1.saved_model.build_tensor_info.\n"
          ],
          "name": "stderr"
        }
      ]
    },
    {
      "cell_type": "markdown",
      "metadata": {
        "id": "1o8BlXcBFvIm",
        "colab_type": "text"
      },
      "source": [
        "## Stage 6: Setting up the production environment"
      ]
    },
    {
      "cell_type": "markdown",
      "metadata": {
        "id": "rSFWzxOrF0ft",
        "colab_type": "text"
      },
      "source": [
        "### Exporting the MODEL_DIR to environment variables"
      ]
    },
    {
      "cell_type": "code",
      "metadata": {
        "id": "BS6wsQthLX_i",
        "colab_type": "code",
        "colab": {}
      },
      "source": [
        "os.environ['MODEL_DIR'] = os.path.abspath(MODEL_DIR)"
      ],
      "execution_count": 0,
      "outputs": []
    },
    {
      "cell_type": "markdown",
      "metadata": {
        "id": "8TXejqj5F5oj",
        "colab_type": "text"
      },
      "source": [
        "### Running the TensorFlow Serving REST API"
      ]
    },
    {
      "cell_type": "code",
      "metadata": {
        "id": "oWjUhJA4KGWy",
        "colab_type": "code",
        "outputId": "4cc3326e-a540-4604-a131-dbb644067a0b",
        "colab": {
          "base_uri": "https://localhost:8080/",
          "height": 34
        }
      },
      "source": [
        "%%bash --bg\n",
        "nohup tensorflow_model_server --rest_api_port=8501 --model_name=cifar10 --model_base_path=\"${MODEL_DIR}\" >server.log 2>&1"
      ],
      "execution_count": 22,
      "outputs": [
        {
          "output_type": "stream",
          "text": [
            "Starting job # 0 in a separate thread.\n"
          ],
          "name": "stdout"
        }
      ]
    },
    {
      "cell_type": "code",
      "metadata": {
        "id": "iPa7fGZ5NHL5",
        "colab_type": "code",
        "outputId": "d1f562ca-f19e-47f1-c50e-97a060a8c3da",
        "colab": {
          "base_uri": "https://localhost:8080/",
          "height": 207
        }
      },
      "source": [
        "!tail server.log"
      ],
      "execution_count": 23,
      "outputs": [
        {
          "output_type": "stream",
          "text": [
            "2019-07-18 09:03:27.756219: I external/org_tensorflow/tensorflow/cc/saved_model/reader.cc:31] Reading SavedModel from: /content/model/1\n",
            "2019-07-18 09:03:27.758531: I external/org_tensorflow/tensorflow/cc/saved_model/reader.cc:54] Reading meta graph with tags { serve }\n",
            "2019-07-18 09:03:27.760649: I external/org_tensorflow/tensorflow/core/platform/cpu_feature_guard.cc:142] Your CPU supports instructions that this TensorFlow binary was not compiled to use: AVX2 FMA\n",
            "2019-07-18 09:03:27.776644: I external/org_tensorflow/tensorflow/cc/saved_model/loader.cc:202] Restoring SavedModel bundle.\n",
            "2019-07-18 09:03:27.807779: I external/org_tensorflow/tensorflow/cc/saved_model/loader.cc:311] SavedModel load for tags { serve }; Status: success. Took 51552 microseconds.\n",
            "2019-07-18 09:03:27.807835: I tensorflow_serving/servables/tensorflow/saved_model_warmup.cc:103] No warmup data file found at /content/model/1/assets.extra/tf_serving_warmup_requests\n",
            "2019-07-18 09:03:27.807940: I tensorflow_serving/core/loader_harness.cc:86] Successfully loaded servable version {name: cifar10 version: 1}\n",
            "2019-07-18 09:03:27.809806: I tensorflow_serving/model_servers/server.cc:324] Running gRPC ModelServer at 0.0.0.0:8500 ...\n",
            "2019-07-18 09:03:27.811013: I tensorflow_serving/model_servers/server.cc:344] Exporting HTTP/REST API at:localhost:8501 ...\n",
            "[evhttp_server.cc : 239] RAW: Entering the event loop ...\n"
          ],
          "name": "stdout"
        }
      ]
    },
    {
      "cell_type": "markdown",
      "metadata": {
        "id": "ICEqKpKUOC2F",
        "colab_type": "text"
      },
      "source": [
        "## Stage 7: Creating the first POST request"
      ]
    },
    {
      "cell_type": "code",
      "metadata": {
        "id": "AvjZyyPIN3Zq",
        "colab_type": "code",
        "outputId": "9d96713c-a7ad-4a8e-c27f-9f5b026dee17",
        "colab": {
          "base_uri": "https://localhost:8080/",
          "height": 34
        }
      },
      "source": [
        "random_image = np.random.randint(0, len(X_test))\n",
        "random_image"
      ],
      "execution_count": 46,
      "outputs": [
        {
          "output_type": "execute_result",
          "data": {
            "text/plain": [
              "8"
            ]
          },
          "metadata": {
            "tags": []
          },
          "execution_count": 46
        }
      ]
    },
    {
      "cell_type": "markdown",
      "metadata": {
        "id": "tqOfIBMNOK8p",
        "colab_type": "text"
      },
      "source": [
        "### Creating the JSON data object"
      ]
    },
    {
      "cell_type": "code",
      "metadata": {
        "id": "nB57JR6wONOI",
        "colab_type": "code",
        "colab": {}
      },
      "source": [
        "data = json.dumps({\"signature_name\":\"serving_default\", \"instances\":[X_test[random_image].tolist()]})"
      ],
      "execution_count": 0,
      "outputs": []
    },
    {
      "cell_type": "code",
      "metadata": {
        "id": "ez6JF3yIPdYZ",
        "colab_type": "code",
        "outputId": "19898fb5-b42f-4fd2-e32e-22501d52b495",
        "colab": {
          "base_uri": "https://localhost:8080/",
          "height": 54
        }
      },
      "source": [
        "data"
      ],
      "execution_count": 48,
      "outputs": [
        {
          "output_type": "execute_result",
          "data": {
            "text/plain": [
              "'{\"signature_name\": \"serving_default\", \"instances\": [[[[0.09019607843137255, 0.07450980392156863, 0.09019607843137255], [0.07450980392156863, 0.08235294117647059, 0.10980392156862745], [0.08235294117647059, 0.06274509803921569, 0.07450980392156863], [0.2549019607843137, 0.1843137254901961, 0.1568627450980392], [0.6431372549019608, 0.5137254901960784, 0.44313725490196076], [0.7372549019607844, 0.5764705882352941, 0.45098039215686275], [0.7176470588235294, 0.5764705882352941, 0.42745098039215684], [0.6980392156862745, 0.5568627450980392, 0.4549019607843137], [0.6666666666666666, 0.5294117647058824, 0.44313725490196076], [0.6745098039215687, 0.5372549019607843, 0.403921568627451], [0.7294117647058823, 0.5647058823529412, 0.41568627450980394], [0.7294117647058823, 0.5568627450980392, 0.4117647058823529], [0.7215686274509804, 0.5529411764705883, 0.4117647058823529], [0.7176470588235294, 0.5490196078431373, 0.4117647058823529], [0.7137254901960784, 0.5490196078431373, 0.4117647058823529], [0.7176470588235294, 0.5607843137254902, 0.4196078431372549], [0.7058823529411765, 0.5490196078431373, 0.41568627450980394], [0.6431372549019608, 0.49411764705882355, 0.38823529411764707], [0.4980392156862745, 0.3764705882352941, 0.2980392156862745], [0.3607843137254902, 0.28627450980392155, 0.22745098039215686], [0.4196078431372549, 0.37254901960784315, 0.32941176470588235], [0.43137254901960786, 0.36470588235294116, 0.33725490196078434], [0.6, 0.5098039215686274, 0.4470588235294118], [0.7607843137254902, 0.6431372549019608, 0.5372549019607843], [0.7647058823529411, 0.6078431372549019, 0.48627450980392156], [0.788235294117647, 0.611764705882353, 0.49019607843137253], [0.7725490196078432, 0.6078431372549019, 0.48627450980392156], [0.7764705882352941, 0.615686274509804, 0.49019607843137253], [0.788235294117647, 0.6196078431372549, 0.4980392156862745], [0.7843137254901961, 0.6078431372549019, 0.49019607843137253], [0.7803921568627451, 0.596078431372549, 0.47843137254901963], [0.7725490196078432, 0.592156862745098, 0.47058823529411764]], [[0.09019607843137255, 0.0784313725490196, 0.09411764705882353], [0.07450980392156863, 0.0784313725490196, 0.10588235294117647], [0.08235294117647059, 0.06666666666666667, 0.0784313725490196], [0.1803921568627451, 0.12156862745098039, 0.10196078431372549], [0.6, 0.47843137254901963, 0.41568627450980394], [0.792156862745098, 0.6313725490196078, 0.5098039215686274], [0.7490196078431373, 0.6078431372549019, 0.4627450980392157], [0.6980392156862745, 0.5725490196078431, 0.48627450980392156], [0.6431372549019608, 0.5411764705882353, 0.49019607843137253], [0.6196078431372549, 0.5333333333333333, 0.4470588235294118], [0.6627450980392157, 0.5450980392156862, 0.42745098039215684], [0.7176470588235294, 0.5843137254901961, 0.4588235294117647], [0.7294117647058823, 0.596078431372549, 0.47058823529411764], [0.7215686274509804, 0.5882352941176471, 0.4627450980392157], [0.7058823529411765, 0.5725490196078431, 0.4470588235294118], [0.6980392156862745, 0.592156862745098, 0.4745098039215686], [0.7058823529411765, 0.6235294117647059, 0.5215686274509804], [0.6784313725490196, 0.5882352941176471, 0.5137254901960784], [0.5411764705882353, 0.4588235294117647, 0.41568627450980394], [0.33725490196078434, 0.28627450980392155, 0.26666666666666666], [0.2901960784313726, 0.2549019607843137, 0.24313725490196078], [0.41568627450980394, 0.34509803921568627, 0.3176470588235294], [0.7058823529411765, 0.611764705882353, 0.5490196078431373], [0.807843137254902, 0.6862745098039216, 0.5882352941176471], [0.8117647058823529, 0.6588235294117647, 0.5411764705882353], [0.8352941176470589, 0.6627450980392157, 0.5490196078431373], [0.8156862745098039, 0.6705882352941176, 0.5372549019607843], [0.807843137254902, 0.6784313725490196, 0.5333333333333333], [0.8117647058823529, 0.6745098039215687, 0.5333333333333333], [0.803921568627451, 0.6588235294117647, 0.5215686274509804], [0.8, 0.6431372549019608, 0.5058823529411764], [0.792156862745098, 0.6392156862745098, 0.5019607843137255]], [[0.09019607843137255, 0.0784313725490196, 0.09411764705882353], [0.0784313725490196, 0.0784313725490196, 0.10196078431372549], [0.09019607843137255, 0.0784313725490196, 0.09019607843137255], [0.12156862745098039, 0.08235294117647059, 0.07058823529411765], [0.4980392156862745, 0.4, 0.34509803921568627], [0.7843137254901961, 0.6352941176470588, 0.5137254901960784], [0.7254901960784313, 0.592156862745098, 0.4549019607843137], [0.6588235294117647, 0.5490196078431373, 0.4823529411764706], [0.6235294117647059, 0.5529411764705883, 0.5450980392156862], [0.6196078431372549, 0.5843137254901961, 0.5529411764705883], [0.6039215686274509, 0.5333333333333333, 0.4549019607843137], [0.6352941176470588, 0.5450980392156862, 0.4549019607843137], [0.6980392156862745, 0.6039215686274509, 0.5058823529411764], [0.6980392156862745, 0.6, 0.4980392156862745], [0.7019607843137254, 0.596078431372549, 0.49019607843137253], [0.6980392156862745, 0.6235294117647059, 0.5176470588235295], [0.7098039215686275, 0.6509803921568628, 0.5568627450980392], [0.7450980392156863, 0.6705882352941176, 0.6039215686274509], [0.7137254901960784, 0.6313725490196078, 0.596078431372549], [0.49019607843137253, 0.42745098039215684, 0.4117647058823529], [0.2784313725490196, 0.22745098039215686, 0.21568627450980393], [0.4470588235294118, 0.3803921568627451, 0.34901960784313724], [0.7725490196078432, 0.6941176470588235, 0.6235294117647059], [0.8196078431372549, 0.7176470588235294, 0.6196078431372549], [0.8352941176470589, 0.7019607843137254, 0.592156862745098], [0.8470588235294118, 0.6980392156862745, 0.592156862745098], [0.8352941176470589, 0.6941176470588235, 0.5725490196078431], [0.8274509803921568, 0.6980392156862745, 0.5568627450980392], [0.8313725490196079, 0.6941176470588235, 0.5568627450980392], [0.8274509803921568, 0.6784313725490196, 0.5450980392156862], [0.8156862745098039, 0.6627450980392157, 0.5333333333333333], [0.807843137254902, 0.6509803921568628, 0.5176470588235295]], [[0.09019607843137255, 0.0784313725490196, 0.09411764705882353], [0.08235294117647059, 0.0784313725490196, 0.09803921568627451], [0.09411764705882353, 0.08235294117647059, 0.09803921568627451], [0.09019607843137255, 0.06666666666666667, 0.07058823529411765], [0.38823529411764707, 0.30980392156862746, 0.27058823529411763], [0.7411764705882353, 0.6, 0.48627450980392156], [0.6862745098039216, 0.5490196078431373, 0.41568627450980394], [0.6274509803921569, 0.5098039215686274, 0.45098039215686275], [0.6588235294117647, 0.592156862745098, 0.611764705882353], [0.6588235294117647, 0.6431372549019608, 0.6509803921568628], [0.6509803921568628, 0.615686274509804, 0.5725490196078431], [0.5843137254901961, 0.5294117647058824, 0.47058823529411764], [0.6666666666666666, 0.6, 0.5372549019607843], [0.7294117647058823, 0.6509803921568628, 0.5803921568627451], [0.7490196078431373, 0.6627450980392157, 0.5843137254901961], [0.7647058823529411, 0.6901960784313725, 0.592156862745098], [0.7647058823529411, 0.6901960784313725, 0.5882352941176471], [0.7843137254901961, 0.6862745098039216, 0.611764705882353], [0.7372549019607844, 0.6313725490196078, 0.5803921568627451], [0.5529411764705883, 0.4627450980392157, 0.42745098039215684], [0.38823529411764707, 0.3215686274509804, 0.2901960784313726], [0.5725490196078431, 0.5215686274509804, 0.47843137254901963], [0.8235294117647058, 0.7686274509803922, 0.6941176470588235], [0.8392156862745098, 0.7647058823529411, 0.6627450980392157], [0.8352941176470589, 0.7411764705882353, 0.6313725490196078], [0.8313725490196079, 0.7176470588235294, 0.615686274509804], [0.8313725490196079, 0.7058823529411765, 0.596078431372549], [0.8352941176470589, 0.7019607843137254, 0.5843137254901961], [0.8509803921568627, 0.7019607843137254, 0.5882352941176471], [0.8509803921568627, 0.6941176470588235, 0.5803921568627451], [0.8431372549019608, 0.6784313725490196, 0.5686274509803921], [0.8392156862745098, 0.6705882352941176, 0.5568627450980392]], [[0.09803921568627451, 0.08235294117647059, 0.09803921568627451], [0.09019607843137255, 0.0784313725490196, 0.09411764705882353], [0.09019607843137255, 0.08235294117647059, 0.09803921568627451], [0.08235294117647059, 0.07450980392156863, 0.09019607843137255], [0.2823529411764706, 0.2196078431372549, 0.2], [0.6666666666666666, 0.5372549019607843, 0.42745098039215684], [0.6470588235294118, 0.5098039215686274, 0.3764705882352941], [0.592156862745098, 0.4666666666666667, 0.40784313725490196], [0.6862745098039216, 0.611764705882353, 0.6313725490196078], [0.7176470588235294, 0.6980392156862745, 0.7215686274509804], [0.7254901960784313, 0.7019607843137254, 0.6980392156862745], [0.6078431372549019, 0.5725490196078431, 0.5529411764705883], [0.5725490196078431, 0.5176470588235295, 0.48627450980392156], [0.615686274509804, 0.5450980392156862, 0.5019607843137255], [0.6627450980392157, 0.5803921568627451, 0.5254901960784314], [0.7372549019607844, 0.6549019607843137, 0.5764705882352941], [0.7725490196078432, 0.6862745098039216, 0.592156862745098], [0.7686274509803922, 0.6627450980392157, 0.5882352941176471], [0.6980392156862745, 0.596078431372549, 0.5372549019607843], [0.5529411764705883, 0.47058823529411764, 0.4235294117647059], [0.4745098039215686, 0.42745098039215684, 0.3764705882352941], [0.6745098039215687, 0.6549019607843137, 0.596078431372549], [0.8274509803921568, 0.807843137254902, 0.7176470588235294], [0.8588235294117647, 0.8235294117647058, 0.7098039215686275], [0.8666666666666667, 0.8196078431372549, 0.7019607843137254], [0.8509803921568627, 0.788235294117647, 0.6823529411764706], [0.8509803921568627, 0.7647058823529411, 0.6588235294117647], [0.8509803921568627, 0.7490196078431373, 0.6431372549019608], [0.8392156862745098, 0.7294117647058823, 0.6274509803921569], [0.8313725490196079, 0.7137254901960784, 0.611764705882353], [0.8196078431372549, 0.6941176470588235, 0.596078431372549], [0.807843137254902, 0.6745098039215687, 0.5764705882352941]], [[0.10196078431372549, 0.08627450980392157, 0.10196078431372549], [0.10588235294117647, 0.08627450980392157, 0.10196078431372549], [0.10196078431372549, 0.09019607843137255, 0.10588235294117647], [0.09019607843137255, 0.08627450980392157, 0.10980392156862745], [0.19215686274509805, 0.14901960784313725, 0.13725490196078433], [0.5607843137254902, 0.45098039215686275, 0.34901960784313724], [0.6431372549019608, 0.5098039215686274, 0.37254901960784315], [0.6039215686274509, 0.47058823529411764, 0.4], [0.6627450980392157, 0.5725490196078431, 0.5882352941176471], [0.7607843137254902, 0.7254901960784313, 0.7568627450980392], [0.7843137254901961, 0.7647058823529411, 0.7803921568627451], [0.6509803921568628, 0.6196078431372549, 0.6235294117647059], [0.5098039215686274, 0.4627450980392157, 0.4549019607843137], [0.49019607843137253, 0.4235294117647059, 0.4], [0.5019607843137255, 0.4196078431372549, 0.3843137254901961], [0.592156862745098, 0.5176470588235295, 0.4627450980392157], [0.6470588235294118, 0.5725490196078431, 0.5098039215686274], [0.6470588235294118, 0.5607843137254902, 0.5137254901960784], [0.5803921568627451, 0.5058823529411764, 0.4666666666666667], [0.5607843137254902, 0.5176470588235295, 0.47843137254901963], [0.5764705882352941, 0.5607843137254902, 0.5176470588235295], [0.7137254901960784, 0.7176470588235294, 0.6549019607843137], [0.7372549019607844, 0.7450980392156863, 0.6509803921568628], [0.788235294117647, 0.7803921568627451, 0.6666666666666666], [0.8313725490196079, 0.8117647058823529, 0.6980392156862745], [0.8509803921568627, 0.8196078431372549, 0.7176470588235294], [0.8352941176470589, 0.8, 0.7019607843137254], [0.8588235294117647, 0.8196078431372549, 0.7176470588235294], [0.8627450980392157, 0.8196078431372549, 0.7176470588235294], [0.8431372549019608, 0.792156862745098, 0.6941176470588235], [0.8431372549019608, 0.7803921568627451, 0.6862745098039216], [0.8274509803921568, 0.7607843137254902, 0.6627450980392157]], [[0.11764705882352941, 0.09411764705882353, 0.10196078431372549], [0.10196078431372549, 0.07450980392156863, 0.08627450980392157], [0.10588235294117647, 0.08235294117647059, 0.09803921568627451], [0.09803921568627451, 0.0784313725490196, 0.10196078431372549], [0.1450980392156863, 0.11764705882352941, 0.11372549019607843], [0.49019607843137253, 0.44313725490196076, 0.3607843137254902], [0.7058823529411765, 0.6313725490196078, 0.5019607843137255], [0.6705882352941176, 0.5803921568627451, 0.4823529411764706], [0.6627450980392157, 0.592156862745098, 0.5764705882352941], [0.7725490196078432, 0.7294117647058823, 0.7647058823529411], [0.792156862745098, 0.7607843137254902, 0.7803921568627451], [0.7019607843137254, 0.6666666666666666, 0.6705882352941176], [0.5450980392156862, 0.5019607843137255, 0.49411764705882355], [0.44313725490196076, 0.3843137254901961, 0.3686274509803922], [0.47843137254901963, 0.4117647058823529, 0.38823529411764707], [0.5098039215686274, 0.44313725490196076, 0.41568627450980394], [0.4666666666666667, 0.40784313725490196, 0.3764705882352941], [0.5215686274509804, 0.4549019607843137, 0.42745098039215684], [0.47843137254901963, 0.4196078431372549, 0.396078431372549], [0.5490196078431373, 0.5019607843137255, 0.47843137254901963], [0.7254901960784313, 0.6980392156862745, 0.6745098039215687], [0.796078431372549, 0.792156862745098, 0.7529411764705882], [0.7490196078431373, 0.7529411764705882, 0.6666666666666666], [0.788235294117647, 0.7725490196078432, 0.6901960784313725], [0.8431372549019608, 0.807843137254902, 0.7647058823529411], [0.8549019607843137, 0.8117647058823529, 0.7686274509803922], [0.8431372549019608, 0.8196078431372549, 0.7725490196078432], [0.8588235294117647, 0.8431372549019608, 0.792156862745098], [0.8627450980392157, 0.8470588235294118, 0.7725490196078432], [0.8549019607843137, 0.8392156862745098, 0.7490196078431373], [0.8627450980392157, 0.8431372549019608, 0.7490196078431373], [0.8784313725490196, 0.8549019607843137, 0.7607843137254902]], [[0.3686274509803922, 0.34509803921568627, 0.30196078431372547], [0.18823529411764706, 0.1607843137254902, 0.12941176470588237], [0.12156862745098039, 0.09411764705882353, 0.06666666666666667], [0.1411764705882353, 0.11372549019607843, 0.09803921568627451], [0.39215686274509803, 0.3764705882352941, 0.34509803921568627], [0.6862745098039216, 0.6823529411764706, 0.6039215686274509], [0.7568627450980392, 0.7294117647058823, 0.6078431372549019], [0.6588235294117647, 0.611764705882353, 0.49411764705882355], [0.6392156862745098, 0.5843137254901961, 0.5490196078431373], [0.7529411764705882, 0.7098039215686275, 0.7450980392156863], [0.7764705882352941, 0.7411764705882353, 0.7568627450980392], [0.7647058823529411, 0.7294117647058823, 0.7254901960784313], [0.6823529411764706, 0.6431372549019608, 0.6392156862745098], [0.5686274509803921, 0.5176470588235295, 0.5058823529411764], [0.5568627450980392, 0.5058823529411764, 0.4823529411764706], [0.5176470588235295, 0.4627450980392157, 0.44313725490196076], [0.41568627450980394, 0.3607843137254902, 0.34509803921568627], [0.4745098039215686, 0.4196078431372549, 0.403921568627451], [0.47843137254901963, 0.4235294117647059, 0.40784313725490196], [0.5450980392156862, 0.48627450980392156, 0.4745098039215686], [0.7529411764705882, 0.7058823529411765, 0.6941176470588235], [0.8196078431372549, 0.8, 0.7764705882352941], [0.7411764705882353, 0.7333333333333333, 0.6470588235294118], [0.8352941176470589, 0.807843137254902, 0.7411764705882353], [0.9490196078431372, 0.9019607843137255, 0.8941176470588236], [0.9294117647058824, 0.8784313725490196, 0.8588235294117647], [0.9372549019607843, 0.9058823529411765, 0.8784313725490196], [0.9098039215686274, 0.8941176470588236, 0.8549019607843137], [0.8156862745098039, 0.803921568627451, 0.7294117647058823], [0.8352941176470589, 0.8274509803921568, 0.7333333333333333], [0.8705882352941177, 0.8627450980392157, 0.7686274509803922], [0.8980392156862745, 0.8862745098039215, 0.803921568627451]], [[0.7058823529411765, 0.6941176470588235, 0.5843137254901961], [0.6196078431372549, 0.6, 0.5019607843137255], [0.4470588235294118, 0.42745098039215684, 0.33725490196078434], [0.47843137254901963, 0.4588235294117647, 0.3764705882352941], [0.6941176470588235, 0.6862745098039216, 0.6078431372549019], [0.7450980392156863, 0.7411764705882353, 0.6549019607843137], [0.7450980392156863, 0.7176470588235294, 0.6], [0.6274509803921569, 0.5764705882352941, 0.4666666666666667], [0.5215686274509804, 0.47058823529411764, 0.43529411764705883], [0.6784313725490196, 0.6313725490196078, 0.6588235294117647], [0.7725490196078432, 0.7372549019607844, 0.7490196078431373], [0.7843137254901961, 0.7529411764705882, 0.7490196078431373], [0.7607843137254902, 0.7215686274509804, 0.7176470588235294], [0.7254901960784313, 0.6784313725490196, 0.6666666666666666], [0.6549019607843137, 0.6039215686274509, 0.5803921568627451], [0.5725490196078431, 0.5137254901960784, 0.4980392156862745], [0.5058823529411764, 0.45098039215686275, 0.4392156862745098], [0.5058823529411764, 0.45098039215686275, 0.4392156862745098], [0.5215686274509804, 0.4666666666666667, 0.4549019607843137], [0.5529411764705883, 0.4980392156862745, 0.48627450980392156], [0.6941176470588235, 0.6509803921568628, 0.6392156862745098], [0.788235294117647, 0.7725490196078432, 0.7333333333333333], [0.7411764705882353, 0.7372549019607844, 0.6352941176470588], [0.8627450980392157, 0.8470588235294118, 0.7568627450980392], [0.9450980392156862, 0.9137254901960784, 0.8745098039215686], [0.9215686274509803, 0.8862745098039215, 0.8352941176470589], [0.9098039215686274, 0.8901960784313725, 0.8117647058823529], [0.8352941176470589, 0.8274509803921568, 0.7333333333333333], [0.7411764705882353, 0.7372549019607844, 0.615686274509804], [0.7803921568627451, 0.7764705882352941, 0.6509803921568628], [0.8823529411764706, 0.8784313725490196, 0.7686274509803922], [0.9176470588235294, 0.9098039215686274, 0.8235294117647058]], [[0.7725490196078432, 0.7607843137254902, 0.6313725490196078], [0.7529411764705882, 0.7372549019607844, 0.6196078431372549], [0.6980392156862745, 0.6862745098039216, 0.5725490196078431], [0.7294117647058823, 0.7137254901960784, 0.6078431372549019], [0.7568627450980392, 0.7490196078431373, 0.6549019607843137], [0.7647058823529411, 0.7607843137254902, 0.6627450980392157], [0.7725490196078432, 0.7450980392156863, 0.6235294117647059], [0.615686274509804, 0.5647058823529412, 0.4588235294117647], [0.5019607843137255, 0.45098039215686275, 0.40784313725490196], [0.6392156862745098, 0.596078431372549, 0.6078431372549019], [0.7254901960784313, 0.6941176470588235, 0.7019607843137254], [0.7490196078431373, 0.7137254901960784, 0.7098039215686275], [0.7568627450980392, 0.7176470588235294, 0.7137254901960784], [0.7647058823529411, 0.7137254901960784, 0.7058823529411765], [0.6980392156862745, 0.6431372549019608, 0.6235294117647059], [0.592156862745098, 0.5411764705882353, 0.5294117647058824], [0.4470588235294118, 0.4, 0.39215686274509803], [0.5058823529411764, 0.4627450980392157, 0.4549019607843137], [0.5137254901960784, 0.4666666666666667, 0.4588235294117647], [0.5254901960784314, 0.4823529411764706, 0.4745098039215686], [0.6666666666666666, 0.6274509803921569, 0.6196078431372549], [0.7607843137254902, 0.7411764705882353, 0.6980392156862745], [0.8156862745098039, 0.8156862745098039, 0.6980392156862745], [0.9176470588235294, 0.9137254901960784, 0.8], [0.9254901960784314, 0.9098039215686274, 0.8470588235294118], [0.9411764705882353, 0.9215686274509803, 0.8392156862745098], [0.9215686274509803, 0.9176470588235294, 0.796078431372549], [0.788235294117647, 0.796078431372549, 0.6549019607843137], [0.7254901960784313, 0.7333333333333333, 0.5764705882352941], [0.7333333333333333, 0.7411764705882353, 0.5882352941176471], [0.8156862745098039, 0.8196078431372549, 0.6901960784313725], [0.9215686274509803, 0.9215686274509803, 0.8117647058823529]], [[0.792156862745098, 0.7803921568627451, 0.6666666666666666], [0.7686274509803922, 0.7529411764705882, 0.6470588235294118], [0.7333333333333333, 0.7176470588235294, 0.6196078431372549], [0.7529411764705882, 0.7333333333333333, 0.6470588235294118], [0.7843137254901961, 0.7764705882352941, 0.6862745098039216], [0.803921568627451, 0.803921568627451, 0.6901960784313725], [0.7725490196078432, 0.7490196078431373, 0.6274509803921569], [0.592156862745098, 0.5411764705882353, 0.4392156862745098], [0.5843137254901961, 0.5333333333333333, 0.4823529411764706], [0.6862745098039216, 0.6470588235294118, 0.6431372549019608], [0.7215686274509804, 0.6901960784313725, 0.6941176470588235], [0.7411764705882353, 0.7098039215686275, 0.7058823529411765], [0.7568627450980392, 0.7215686274509804, 0.7137254901960784], [0.7333333333333333, 0.6862745098039216, 0.6745098039215687], [0.6588235294117647, 0.6039215686274509, 0.5843137254901961], [0.5333333333333333, 0.48627450980392156, 0.4745098039215686], [0.4588235294117647, 0.4196078431372549, 0.41568627450980394], [0.5019607843137255, 0.4627450980392157, 0.4549019607843137], [0.5019607843137255, 0.4666666666666667, 0.4588235294117647], [0.5058823529411764, 0.47058823529411764, 0.4627450980392157], [0.6549019607843137, 0.6196078431372549, 0.611764705882353], [0.7098039215686275, 0.6901960784313725, 0.6509803921568628], [0.803921568627451, 0.803921568627451, 0.6862745098039216], [0.9411764705882353, 0.9411764705882353, 0.8196078431372549], [0.9529411764705882, 0.9529411764705882, 0.8705882352941177], [0.9529411764705882, 0.9568627450980393, 0.8470588235294118], [0.9333333333333333, 0.9490196078431372, 0.803921568627451], [0.807843137254902, 0.8313725490196079, 0.6627450980392157], [0.7294117647058823, 0.7529411764705882, 0.5686274509803921], [0.7333333333333333, 0.7529411764705882, 0.5764705882352941], [0.7568627450980392, 0.7764705882352941, 0.6235294117647059], [0.8666666666666667, 0.8784313725490196, 0.7294117647058823]], [[0.803921568627451, 0.788235294117647, 0.6745098039215687], [0.803921568627451, 0.788235294117647, 0.6823529411764706], [0.7725490196078432, 0.7568627450980392, 0.6627450980392157], [0.7529411764705882, 0.7333333333333333, 0.6509803921568628], [0.796078431372549, 0.788235294117647, 0.6901960784313725], [0.8156862745098039, 0.8196078431372549, 0.6901960784313725], [0.7607843137254902, 0.7372549019607844, 0.615686274509804], [0.6274509803921569, 0.5725490196078431, 0.47843137254901963], [0.6588235294117647, 0.6078431372549019, 0.5529411764705883], [0.7490196078431373, 0.7137254901960784, 0.6941176470588235], [0.7568627450980392, 0.7254901960784313, 0.7254901960784313], [0.7490196078431373, 0.7176470588235294, 0.7137254901960784], [0.7568627450980392, 0.7176470588235294, 0.7137254901960784], [0.6745098039215687, 0.6235294117647059, 0.615686274509804], [0.5725490196078431, 0.5176470588235295, 0.4980392156862745], [0.4666666666666667, 0.4196078431372549, 0.40784313725490196], [0.48627450980392156, 0.45098039215686275, 0.45098039215686275], [0.5568627450980392, 0.5215686274509804, 0.5176470588235295], [0.5215686274509804, 0.48627450980392156, 0.4823529411764706], [0.5294117647058824, 0.49411764705882355, 0.49019607843137253], [0.6549019607843137, 0.6196078431372549, 0.6235294117647059], [0.6901960784313725, 0.6666666666666666, 0.6431372549019608], [0.7490196078431373, 0.7411764705882353, 0.6392156862745098], [0.9176470588235294, 0.9215686274509803, 0.807843137254902], [0.9529411764705882, 0.9647058823529412, 0.8784313725490196], [0.9450980392156862, 0.9647058823529412, 0.8509803921568627], [0.9254901960784314, 0.9490196078431372, 0.803921568627451], [0.8431372549019608, 0.8705882352941177, 0.7098039215686275], [0.7294117647058823, 0.7607843137254902, 0.5725490196078431], [0.7215686274509804, 0.7529411764705882, 0.5568627450980392], [0.7254901960784313, 0.7529411764705882, 0.5764705882352941], [0.7686274509803922, 0.792156862745098, 0.611764705882353]], [[0.807843137254902, 0.796078431372549, 0.6549019607843137], [0.8, 0.788235294117647, 0.6549019607843137], [0.7843137254901961, 0.7725490196078432, 0.6470588235294118], [0.7568627450980392, 0.7411764705882353, 0.6274509803921569], [0.7725490196078432, 0.7686274509803922, 0.6470588235294118], [0.7803921568627451, 0.7764705882352941, 0.6431372549019608], [0.7490196078431373, 0.7176470588235294, 0.6], [0.7058823529411765, 0.6470588235294118, 0.5607843137254902], [0.6745098039215687, 0.6235294117647059, 0.5686274509803921], [0.7019607843137254, 0.6666666666666666, 0.6392156862745098], [0.7176470588235294, 0.6901960784313725, 0.6823529411764706], [0.6784313725490196, 0.6470588235294118, 0.6431372549019608], [0.6823529411764706, 0.6431372549019608, 0.6392156862745098], [0.6823529411764706, 0.6352941176470588, 0.6235294117647059], [0.596078431372549, 0.5411764705882353, 0.5215686274509804], [0.5137254901960784, 0.47058823529411764, 0.4627450980392157], [0.5529411764705883, 0.5215686274509804, 0.5254901960784314], [0.6509803921568628, 0.6235294117647059, 0.6235294117647059], [0.5568627450980392, 0.5294117647058824, 0.5294117647058824], [0.6039215686274509, 0.5725490196078431, 0.5725490196078431], [0.6627450980392157, 0.6313725490196078, 0.6392156862745098], [0.6745098039215687, 0.6470588235294118, 0.6392156862745098], [0.7490196078431373, 0.7411764705882353, 0.6588235294117647], [0.9019607843137255, 0.9058823529411765, 0.803921568627451], [0.9411764705882353, 0.9568627450980393, 0.8745098039215686], [0.9450980392156862, 0.9725490196078431, 0.8627450980392157], [0.9372549019607843, 0.9686274509803922, 0.8392156862745098], [0.8941176470588236, 0.9176470588235294, 0.7803921568627451], [0.7843137254901961, 0.8156862745098039, 0.6392156862745098], [0.7294117647058823, 0.7647058823529411, 0.5647058823529412], [0.7215686274509804, 0.7568627450980392, 0.5647058823529412], [0.7529411764705882, 0.7803921568627451, 0.596078431372549]], [[0.8235294117647058, 0.8156862745098039, 0.6627450980392157], [0.792156862745098, 0.792156862745098, 0.6352941176470588], [0.7764705882352941, 0.7686274509803922, 0.6274509803921569], [0.7490196078431373, 0.7254901960784313, 0.6078431372549019], [0.788235294117647, 0.7568627450980392, 0.6392156862745098], [0.7058823529411765, 0.6549019607843137, 0.5333333333333333], [0.6941176470588235, 0.611764705882353, 0.5137254901960784], [0.792156862745098, 0.7254901960784313, 0.6431372549019608], [0.6705882352941176, 0.6313725490196078, 0.5725490196078431], [0.6039215686274509, 0.5686274509803921, 0.5333333333333333], [0.5568627450980392, 0.5294117647058824, 0.5176470588235295], [0.5568627450980392, 0.5294117647058824, 0.5215686274509804], [0.6588235294117647, 0.6313725490196078, 0.6235294117647059], [0.6588235294117647, 0.6196078431372549, 0.6196078431372549], [0.5764705882352941, 0.5372549019607843, 0.5294117647058824], [0.611764705882353, 0.5607843137254902, 0.5725490196078431], [0.6862745098039216, 0.6431372549019608, 0.6549019607843137], [0.6627450980392157, 0.6431372549019608, 0.6352941176470588], [0.5882352941176471, 0.5843137254901961, 0.5647058823529412], [0.6431372549019608, 0.6352941176470588, 0.6196078431372549], [0.6196078431372549, 0.6, 0.596078431372549], [0.6274509803921569, 0.615686274509804, 0.596078431372549], [0.7725490196078432, 0.7647058823529411, 0.6901960784313725], [0.9019607843137255, 0.8941176470588236, 0.796078431372549], [0.9450980392156862, 0.9490196078431372, 0.8431372549019608], [0.9450980392156862, 0.9686274509803922, 0.8470588235294118], [0.9568627450980393, 0.9764705882352941, 0.8666666666666667], [0.9490196078431372, 0.9607843137254902, 0.8549019607843137], [0.8862745098039215, 0.9098039215686274, 0.7725490196078432], [0.7490196078431373, 0.7803921568627451, 0.6235294117647059], [0.7647058823529411, 0.8, 0.6352941176470588], [0.8431372549019608, 0.8705882352941177, 0.7137254901960784]], [[0.8274509803921568, 0.8235294117647058, 0.6823529411764706], [0.788235294117647, 0.8, 0.6431372549019608], [0.7803921568627451, 0.7725490196078432, 0.6352941176470588], [0.7529411764705882, 0.7137254901960784, 0.615686274509804], [0.8117647058823529, 0.7490196078431373, 0.6588235294117647], [0.6666666666666666, 0.5568627450980392, 0.47058823529411764], [0.6313725490196078, 0.49019607843137253, 0.42745098039215684], [0.8431372549019608, 0.7568627450980392, 0.6980392156862745], [0.7411764705882353, 0.7098039215686275, 0.6509803921568628], [0.7294117647058823, 0.6941176470588235, 0.6549019607843137], [0.6784313725490196, 0.6509803921568628, 0.6313725490196078], [0.6745098039215687, 0.6549019607843137, 0.6392156862745098], [0.7450980392156863, 0.7215686274509804, 0.7137254901960784], [0.6941176470588235, 0.6666666666666666, 0.6705882352941176], [0.5372549019607843, 0.5098039215686274, 0.5176470588235295], [0.4980392156862745, 0.4470588235294118, 0.47058823529411764], [0.7058823529411765, 0.6470588235294118, 0.6627450980392157], [0.6823529411764706, 0.6666666666666666, 0.6392156862745098], [0.5882352941176471, 0.596078431372549, 0.5490196078431373], [0.6274509803921569, 0.6196078431372549, 0.5843137254901961], [0.6862745098039216, 0.6705882352941176, 0.6509803921568628], [0.6901960784313725, 0.6823529411764706, 0.6431372549019608], [0.7568627450980392, 0.7411764705882353, 0.6666666666666666], [0.9254901960784314, 0.9058823529411765, 0.8], [0.9607843137254902, 0.9490196078431372, 0.8274509803921568], [0.9490196078431372, 0.9568627450980393, 0.8352941176470589], [0.9529411764705882, 0.9607843137254902, 0.8549019607843137], [0.984313725490196, 0.984313725490196, 0.8941176470588236], [0.9372549019607843, 0.9490196078431372, 0.8392156862745098], [0.788235294117647, 0.8117647058823529, 0.6901960784313725], [0.8313725490196079, 0.8666666666666667, 0.7333333333333333], [0.8823529411764706, 0.9137254901960784, 0.7803921568627451]], [[0.8274509803921568, 0.8313725490196079, 0.6862745098039216], [0.7686274509803922, 0.7843137254901961, 0.6274509803921569], [0.7725490196078432, 0.7725490196078432, 0.6313725490196078], [0.7568627450980392, 0.7254901960784313, 0.6235294117647059], [0.8196078431372549, 0.7411764705882353, 0.6666666666666666], [0.7098039215686275, 0.5686274509803921, 0.5176470588235295], [0.6039215686274509, 0.4392156862745098, 0.40784313725490196], [0.8509803921568627, 0.7529411764705882, 0.7176470588235294], [0.807843137254902, 0.7803921568627451, 0.7372549019607844], [0.7725490196078432, 0.7450980392156863, 0.7137254901960784], [0.7647058823529411, 0.7411764705882353, 0.7215686274509804], [0.7254901960784313, 0.7058823529411765, 0.6901960784313725], [0.6666666666666666, 0.6431372549019608, 0.6352941176470588], [0.6784313725490196, 0.6549019607843137, 0.6588235294117647], [0.6509803921568628, 0.6274509803921569, 0.6392156862745098], [0.596078431372549, 0.5372549019607843, 0.5529411764705883], [0.6392156862745098, 0.5725490196078431, 0.5686274509803921], [0.7215686274509804, 0.6901960784313725, 0.6470588235294118], [0.6509803921568628, 0.6352941176470588, 0.5725490196078431], [0.596078431372549, 0.5686274509803921, 0.5215686274509804], [0.7529411764705882, 0.7215686274509804, 0.6862745098039216], [0.7098039215686275, 0.6941176470588235, 0.6470588235294118], [0.6862745098039216, 0.6588235294117647, 0.5882352941176471], [0.8, 0.7647058823529411, 0.6627450980392157], [0.9333333333333333, 0.9098039215686274, 0.792156862745098], [0.9529411764705882, 0.9450980392156862, 0.8313725490196079], [0.9568627450980393, 0.9607843137254902, 0.8509803921568627], [0.9686274509803922, 0.9764705882352941, 0.8666666666666667], [0.8745098039215686, 0.8941176470588236, 0.7686274509803922], [0.8352941176470589, 0.8666666666666667, 0.7294117647058823], [0.8862745098039215, 0.9254901960784314, 0.7803921568627451], [0.8862745098039215, 0.9215686274509803, 0.7803921568627451]], [[0.8392156862745098, 0.8470588235294118, 0.7019607843137254], [0.7607843137254902, 0.7803921568627451, 0.6235294117647059], [0.7058823529411765, 0.7137254901960784, 0.5725490196078431], [0.7098039215686275, 0.6823529411764706, 0.5803921568627451], [0.7725490196078432, 0.6901960784313725, 0.6313725490196078], [0.7686274509803922, 0.6078431372549019, 0.592156862745098], [0.6078431372549019, 0.43137254901960786, 0.42745098039215684], [0.7764705882352941, 0.6784313725490196, 0.6588235294117647], [0.8392156862745098, 0.8156862745098039, 0.7803921568627451], [0.7529411764705882, 0.7294117647058823, 0.7098039215686275], [0.6823529411764706, 0.6588235294117647, 0.6431372549019608], [0.7176470588235294, 0.6980392156862745, 0.6823529411764706], [0.6784313725490196, 0.6588235294117647, 0.6470588235294118], [0.6313725490196078, 0.6078431372549019, 0.611764705882353], [0.6823529411764706, 0.6549019607843137, 0.6666666666666666], [0.6980392156862745, 0.6431372549019608, 0.6509803921568628], [0.5019607843137255, 0.43137254901960786, 0.4117647058823529], [0.6431372549019608, 0.5882352941176471, 0.5333333333333333], [0.7411764705882353, 0.6941176470588235, 0.6235294117647059], [0.5764705882352941, 0.5254901960784314, 0.4666666666666667], [0.6549019607843137, 0.6039215686274509, 0.5607843137254902], [0.7058823529411765, 0.6705882352941176, 0.6196078431372549], [0.611764705882353, 0.5647058823529412, 0.49411764705882355], [0.4627450980392157, 0.40784313725490196, 0.3137254901960784], [0.615686274509804, 0.5686274509803921, 0.4627450980392157], [0.8431372549019608, 0.8196078431372549, 0.7176470588235294], [0.9372549019607843, 0.9333333333333333, 0.8196078431372549], [0.9215686274509803, 0.9294117647058824, 0.803921568627451], [0.807843137254902, 0.8235294117647058, 0.6862745098039216], [0.8392156862745098, 0.8666666666666667, 0.7176470588235294], [0.9176470588235294, 0.9529411764705882, 0.788235294117647], [0.8941176470588236, 0.9294117647058824, 0.7725490196078432]], [[0.8431372549019608, 0.8588235294117647, 0.7098039215686275], [0.7764705882352941, 0.807843137254902, 0.6431372549019608], [0.6509803921568628, 0.6627450980392157, 0.5215686274509804], [0.6392156862745098, 0.6196078431372549, 0.5137254901960784], [0.7058823529411765, 0.6392156862745098, 0.5843137254901961], [0.792156862745098, 0.6549019607843137, 0.6470588235294118], [0.7450980392156863, 0.5843137254901961, 0.592156862745098], [0.7254901960784313, 0.6352941176470588, 0.6235294117647059], [0.8117647058823529, 0.792156862745098, 0.7607843137254902], [0.8235294117647058, 0.803921568627451, 0.7803921568627451], [0.803921568627451, 0.7843137254901961, 0.7686274509803922], [0.8392156862745098, 0.8196078431372549, 0.803921568627451], [0.7568627450980392, 0.7372549019607844, 0.7254901960784313], [0.6823529411764706, 0.6588235294117647, 0.6588235294117647], [0.6901960784313725, 0.6666666666666666, 0.6745098039215687], [0.6784313725490196, 0.6313725490196078, 0.6352941176470588], [0.5058823529411764, 0.4392156862745098, 0.40784313725490196], [0.5372549019607843, 0.47058823529411764, 0.4117647058823529], [0.7490196078431373, 0.6784313725490196, 0.6078431372549019], [0.6, 0.5294117647058824, 0.4666666666666667], [0.6392156862745098, 0.5764705882352941, 0.5254901960784314], [0.7843137254901961, 0.7294117647058823, 0.6784313725490196], [0.6705882352941176, 0.6078431372549019, 0.5333333333333333], [0.5294117647058824, 0.45098039215686275, 0.3607843137254902], [0.4549019607843137, 0.3843137254901961, 0.29411764705882354], [0.5647058823529412, 0.5176470588235295, 0.43529411764705883], [0.7215686274509804, 0.6980392156862745, 0.596078431372549], [0.7568627450980392, 0.7372549019607844, 0.6196078431372549], [0.7333333333333333, 0.7254901960784313, 0.596078431372549], [0.8235294117647058, 0.8313725490196079, 0.6901960784313725], [0.9372549019607843, 0.9529411764705882, 0.796078431372549], [0.9215686274509803, 0.9372549019607843, 0.7843137254901961]], [[0.8470588235294118, 0.8666666666666667, 0.7176470588235294], [0.803921568627451, 0.8392156862745098, 0.6745098039215687], [0.6823529411764706, 0.7019607843137254, 0.5568627450980392], [0.6431372549019608, 0.6313725490196078, 0.5215686274509804], [0.7254901960784313, 0.6862745098039216, 0.6235294117647059], [0.796078431372549, 0.7098039215686275, 0.6901960784313725], [0.8235294117647058, 0.7019607843137254, 0.6941176470588235], [0.7607843137254902, 0.6941176470588235, 0.6666666666666666], [0.7490196078431373, 0.7411764705882353, 0.6941176470588235], [0.8274509803921568, 0.8117647058823529, 0.7725490196078432], [0.8549019607843137, 0.8313725490196079, 0.8117647058823529], [0.8862745098039215, 0.8666666666666667, 0.8509803921568627], [0.8823529411764706, 0.8627450980392157, 0.8509803921568627], [0.796078431372549, 0.7725490196078432, 0.7764705882352941], [0.7450980392156863, 0.7215686274509804, 0.7333333333333333], [0.7019607843137254, 0.6705882352941176, 0.6666666666666666], [0.592156862745098, 0.5450980392156862, 0.5137254901960784], [0.4745098039215686, 0.403921568627451, 0.35294117647058826], [0.6588235294117647, 0.5843137254901961, 0.5215686274509804], [0.6196078431372549, 0.5490196078431373, 0.49411764705882355], [0.6549019607843137, 0.592156862745098, 0.5450980392156862], [0.7607843137254902, 0.6941176470588235, 0.6352941176470588], [0.6666666666666666, 0.5803921568627451, 0.5098039215686274], [0.6745098039215687, 0.5764705882352941, 0.49411764705882355], [0.6039215686274509, 0.5137254901960784, 0.43529411764705883], [0.5137254901960784, 0.4392156862745098, 0.3764705882352941], [0.6, 0.5411764705882353, 0.4627450980392157], [0.6627450980392157, 0.611764705882353, 0.5176470588235295], [0.6352941176470588, 0.592156862745098, 0.48627450980392156], [0.7215686274509804, 0.6941176470588235, 0.5725490196078431], [0.8705882352941177, 0.8509803921568627, 0.7215686274509804], [0.9254901960784314, 0.9176470588235294, 0.7803921568627451]], [[0.8470588235294118, 0.8745098039215686, 0.7254901960784313], [0.8156862745098039, 0.8549019607843137, 0.6901960784313725], [0.7529411764705882, 0.7764705882352941, 0.6313725490196078], [0.7058823529411765, 0.6980392156862745, 0.5843137254901961], [0.7725490196078432, 0.7607843137254902, 0.6862745098039216], [0.792156862745098, 0.7607843137254902, 0.7176470588235294], [0.8196078431372549, 0.7450980392156863, 0.7137254901960784], [0.8235294117647058, 0.7843137254901961, 0.7372549019607844], [0.7294117647058823, 0.7294117647058823, 0.6666666666666666], [0.7411764705882353, 0.7215686274509804, 0.6666666666666666], [0.7725490196078432, 0.7490196078431373, 0.7254901960784313], [0.8, 0.7803921568627451, 0.7607843137254902], [0.8196078431372549, 0.796078431372549, 0.788235294117647], [0.8352941176470589, 0.8156862745098039, 0.8156862745098039], [0.8117647058823529, 0.7843137254901961, 0.792156862745098], [0.7098039215686275, 0.6941176470588235, 0.6862745098039216], [0.6980392156862745, 0.6705882352941176, 0.6431372549019608], [0.5843137254901961, 0.5294117647058824, 0.4823529411764706], [0.5725490196078431, 0.4980392156862745, 0.44313725490196076], [0.6862745098039216, 0.6196078431372549, 0.5686274509803921], [0.7176470588235294, 0.6588235294117647, 0.615686274509804], [0.6823529411764706, 0.6078431372549019, 0.5490196078431373], [0.611764705882353, 0.5137254901960784, 0.44313725490196076], [0.6705882352941176, 0.5607843137254902, 0.4823529411764706], [0.6392156862745098, 0.5372549019607843, 0.4666666666666667], [0.5803921568627451, 0.49411764705882355, 0.4392156862745098], [0.6627450980392157, 0.5803921568627451, 0.5254901960784314], [0.7058823529411765, 0.6235294117647059, 0.5568627450980392], [0.6509803921568628, 0.5764705882352941, 0.4980392156862745], [0.6274509803921569, 0.5647058823529412, 0.4745098039215686], [0.6745098039215687, 0.6196078431372549, 0.5176470588235295], [0.8, 0.7725490196078432, 0.6509803921568628]], [[0.8549019607843137, 0.8823529411764706, 0.7411764705882353], [0.8352941176470589, 0.8666666666666667, 0.7176470588235294], [0.792156862745098, 0.8156862745098039, 0.6784313725490196], [0.7137254901960784, 0.7176470588235294, 0.6078431372549019], [0.7490196078431373, 0.7490196078431373, 0.6705882352941176], [0.796078431372549, 0.7803921568627451, 0.7294117647058823], [0.788235294117647, 0.7450980392156863, 0.6941176470588235], [0.792156862745098, 0.7607843137254902, 0.6980392156862745], [0.792156862745098, 0.7764705882352941, 0.7058823529411765], [0.7647058823529411, 0.7372549019607844, 0.6745098039215687], [0.7568627450980392, 0.7450980392156863, 0.6980392156862745], [0.7529411764705882, 0.7294117647058823, 0.6941176470588235], [0.6980392156862745, 0.6705882352941176, 0.6431372549019608], [0.7764705882352941, 0.7568627450980392, 0.7372549019607844], [0.8117647058823529, 0.7764705882352941, 0.7647058823529411], [0.7803921568627451, 0.7490196078431373, 0.7411764705882353], [0.8274509803921568, 0.8117647058823529, 0.788235294117647], [0.796078431372549, 0.7490196078431373, 0.7137254901960784], [0.6509803921568628, 0.5803921568627451, 0.5333333333333333], [0.7333333333333333, 0.6627450980392157, 0.615686274509804], [0.6941176470588235, 0.6274509803921569, 0.5764705882352941], [0.6078431372549019, 0.5294117647058824, 0.47058823529411764], [0.5764705882352941, 0.4823529411764706, 0.41568627450980394], [0.6509803921568628, 0.5529411764705883, 0.48627450980392156], [0.6549019607843137, 0.5568627450980392, 0.5019607843137255], [0.6705882352941176, 0.5843137254901961, 0.5411764705882353], [0.7137254901960784, 0.6235294117647059, 0.5803921568627451], [0.6862745098039216, 0.596078431372549, 0.5411764705882353], [0.611764705882353, 0.5294117647058824, 0.47058823529411764], [0.611764705882353, 0.5333333333333333, 0.4666666666666667], [0.6235294117647059, 0.5490196078431373, 0.47843137254901963], [0.6549019607843137, 0.6039215686274509, 0.5098039215686274]], [[0.8509803921568627, 0.8705882352941177, 0.7411764705882353], [0.8431372549019608, 0.8666666666666667, 0.7372549019607844], [0.8196078431372549, 0.8392156862745098, 0.7176470588235294], [0.7294117647058823, 0.7450980392156863, 0.6313725490196078], [0.7019607843137254, 0.7019607843137254, 0.6196078431372549], [0.7843137254901961, 0.7647058823529411, 0.7176470588235294], [0.8156862745098039, 0.7843137254901961, 0.7333333333333333], [0.7843137254901961, 0.7450980392156863, 0.6901960784313725], [0.8196078431372549, 0.7764705882352941, 0.7215686274509804], [0.8431372549019608, 0.803921568627451, 0.7490196078431373], [0.8235294117647058, 0.8196078431372549, 0.7529411764705882], [0.7294117647058823, 0.6980392156862745, 0.6431372549019608], [0.6313725490196078, 0.592156862745098, 0.5450980392156862], [0.7137254901960784, 0.7019607843137254, 0.6509803921568628], [0.7686274509803922, 0.7137254901960784, 0.6784313725490196], [0.7607843137254902, 0.7098039215686275, 0.6941176470588235], [0.796078431372549, 0.7725490196078432, 0.7529411764705882], [0.8117647058823529, 0.7686274509803922, 0.7372549019607844], [0.7450980392156863, 0.6823529411764706, 0.6352941176470588], [0.7254901960784313, 0.6470588235294118, 0.5882352941176471], [0.6078431372549019, 0.5254901960784314, 0.4627450980392157], [0.5568627450980392, 0.48627450980392156, 0.4196078431372549], [0.6078431372549019, 0.5372549019607843, 0.4745098039215686], [0.6509803921568628, 0.5764705882352941, 0.5215686274509804], [0.6745098039215687, 0.6, 0.5568627450980392], [0.7019607843137254, 0.6313725490196078, 0.5882352941176471], [0.6784313725490196, 0.6, 0.5529411764705883], [0.6235294117647059, 0.5450980392156862, 0.49019607843137253], [0.5882352941176471, 0.5137254901960784, 0.4588235294117647], [0.6196078431372549, 0.5450980392156862, 0.48627450980392156], [0.6196078431372549, 0.5450980392156862, 0.49019607843137253], [0.5607843137254902, 0.49019607843137253, 0.4235294117647059]], [[0.8392156862745098, 0.8588235294117647, 0.7294117647058823], [0.8352941176470589, 0.8549019607843137, 0.7294117647058823], [0.8392156862745098, 0.8588235294117647, 0.7333333333333333], [0.7529411764705882, 0.7764705882352941, 0.6509803921568628], [0.6627450980392157, 0.6666666666666666, 0.5803921568627451], [0.7725490196078432, 0.7490196078431373, 0.7058823529411765], [0.8549019607843137, 0.8235294117647058, 0.7803921568627451], [0.8509803921568627, 0.8117647058823529, 0.7725490196078432], [0.8431372549019608, 0.796078431372549, 0.7568627450980392], [0.8509803921568627, 0.807843137254902, 0.7647058823529411], [0.8313725490196079, 0.8117647058823529, 0.7529411764705882], [0.7647058823529411, 0.7058823529411765, 0.6588235294117647], [0.6666666666666666, 0.611764705882353, 0.5686274509803921], [0.7019607843137254, 0.6823529411764706, 0.6235294117647059], [0.7647058823529411, 0.7058823529411765, 0.6627450980392157], [0.7490196078431373, 0.6901960784313725, 0.6666666666666666], [0.7450980392156863, 0.7137254901960784, 0.6862745098039216], [0.7529411764705882, 0.7098039215686275, 0.6745098039215687], [0.7529411764705882, 0.6901960784313725, 0.6392156862745098], [0.6666666666666666, 0.5882352941176471, 0.5254901960784314], [0.5176470588235295, 0.43529411764705883, 0.36470588235294116], [0.5568627450980392, 0.49019607843137253, 0.4235294117647059], [0.6549019607843137, 0.5882352941176471, 0.5254901960784314], [0.6666666666666666, 0.596078431372549, 0.5450980392156862], [0.6666666666666666, 0.596078431372549, 0.5529411764705883], [0.7019607843137254, 0.6313725490196078, 0.592156862745098], [0.6784313725490196, 0.6039215686274509, 0.5568627450980392], [0.615686274509804, 0.5411764705882353, 0.48627450980392156], [0.615686274509804, 0.5411764705882353, 0.48627450980392156], [0.5764705882352941, 0.5019607843137255, 0.4470588235294118], [0.5254901960784314, 0.45098039215686275, 0.396078431372549], [0.49019607843137253, 0.41568627450980394, 0.3568627450980392]], [[0.8352941176470589, 0.8549019607843137, 0.7294117647058823], [0.8196078431372549, 0.8392156862745098, 0.7098039215686275], [0.8274509803921568, 0.8509803921568627, 0.7176470588235294], [0.792156862745098, 0.8117647058823529, 0.6745098039215687], [0.6588235294117647, 0.6666666666666666, 0.5607843137254902], [0.7568627450980392, 0.7372549019607844, 0.6901960784313725], [0.8470588235294118, 0.8235294117647058, 0.788235294117647], [0.8705882352941177, 0.8352941176470589, 0.8117647058823529], [0.8745098039215686, 0.8313725490196079, 0.807843137254902], [0.8705882352941177, 0.8274509803921568, 0.796078431372549], [0.8274509803921568, 0.7803921568627451, 0.7411764705882353], [0.803921568627451, 0.7137254901960784, 0.6862745098039216], [0.7607843137254902, 0.6823529411764706, 0.6470588235294118], [0.7607843137254902, 0.7294117647058823, 0.6705882352941176], [0.788235294117647, 0.7294117647058823, 0.6823529411764706], [0.7764705882352941, 0.7098039215686275, 0.6745098039215687], [0.7764705882352941, 0.7294117647058823, 0.6980392156862745], [0.7686274509803922, 0.7137254901960784, 0.6705882352941176], [0.7372549019607844, 0.6705882352941176, 0.6196078431372549], [0.6, 0.5215686274509804, 0.4588235294117647], [0.5254901960784314, 0.4470588235294118, 0.3803921568627451], [0.6078431372549019, 0.5372549019607843, 0.47058823529411764], [0.6705882352941176, 0.6039215686274509, 0.5411764705882353], [0.6549019607843137, 0.5843137254901961, 0.5333333333333333], [0.6509803921568628, 0.5803921568627451, 0.5411764705882353], [0.7411764705882353, 0.6705882352941176, 0.6313725490196078], [0.6980392156862745, 0.6235294117647059, 0.5725490196078431], [0.6470588235294118, 0.5725490196078431, 0.5176470588235295], [0.6392156862745098, 0.5647058823529412, 0.5098039215686274], [0.5568627450980392, 0.4823529411764706, 0.42745098039215684], [0.5215686274509804, 0.45098039215686275, 0.39215686274509803], [0.5372549019607843, 0.4627450980392157, 0.40784313725490196]], [[0.8274509803921568, 0.8470588235294118, 0.7215686274509804], [0.807843137254902, 0.8313725490196079, 0.6980392156862745], [0.807843137254902, 0.8313725490196079, 0.6862745098039216], [0.792156862745098, 0.8196078431372549, 0.6627450980392157], [0.6862745098039216, 0.7019607843137254, 0.5725490196078431], [0.7490196078431373, 0.7411764705882353, 0.6666666666666666], [0.8274509803921568, 0.8117647058823529, 0.7764705882352941], [0.8352941176470589, 0.803921568627451, 0.792156862745098], [0.8392156862745098, 0.803921568627451, 0.7843137254901961], [0.8470588235294118, 0.803921568627451, 0.7725490196078432], [0.7764705882352941, 0.6941176470588235, 0.6705882352941176], [0.6705882352941176, 0.5411764705882353, 0.5333333333333333], [0.7607843137254902, 0.6549019607843137, 0.6313725490196078], [0.807843137254902, 0.7647058823529411, 0.7058823529411765], [0.788235294117647, 0.7333333333333333, 0.6705882352941176], [0.788235294117647, 0.7137254901960784, 0.6666666666666666], [0.7843137254901961, 0.7254901960784313, 0.6784313725490196], [0.7725490196078432, 0.7098039215686275, 0.6588235294117647], [0.6941176470588235, 0.6196078431372549, 0.5647058823529412], [0.5882352941176471, 0.5098039215686274, 0.45098039215686275], [0.5647058823529412, 0.49019607843137253, 0.4235294117647059], [0.6196078431372549, 0.5529411764705883, 0.48627450980392156], [0.6549019607843137, 0.5882352941176471, 0.5254901960784314], [0.615686274509804, 0.5490196078431373, 0.49411764705882355], [0.6235294117647059, 0.5529411764705883, 0.5098039215686274], [0.7098039215686275, 0.6392156862745098, 0.6], [0.6901960784313725, 0.615686274509804, 0.5686274509803921], [0.6588235294117647, 0.5843137254901961, 0.5294117647058824], [0.596078431372549, 0.5215686274509804, 0.4666666666666667], [0.5882352941176471, 0.5137254901960784, 0.4588235294117647], [0.5843137254901961, 0.5098039215686274, 0.4549019607843137], [0.5647058823529412, 0.48627450980392156, 0.43529411764705883]], [[0.8235294117647058, 0.8431372549019608, 0.7215686274509804], [0.8, 0.8235294117647058, 0.6901960784313725], [0.788235294117647, 0.8156862745098039, 0.6588235294117647], [0.7568627450980392, 0.7843137254901961, 0.615686274509804], [0.7098039215686275, 0.7333333333333333, 0.5764705882352941], [0.7372549019607844, 0.7450980392156863, 0.6352941176470588], [0.8156862745098039, 0.807843137254902, 0.7529411764705882], [0.8235294117647058, 0.8, 0.7843137254901961], [0.803921568627451, 0.7764705882352941, 0.7490196078431373], [0.807843137254902, 0.7686274509803922, 0.7254901960784313], [0.6274509803921569, 0.5137254901960784, 0.5058823529411764], [0.47843137254901963, 0.3137254901960784, 0.3215686274509804], [0.6941176470588235, 0.5686274509803921, 0.5529411764705883], [0.8156862745098039, 0.7607843137254902, 0.7019607843137254], [0.7764705882352941, 0.7215686274509804, 0.6509803921568628], [0.7607843137254902, 0.6823529411764706, 0.6235294117647059], [0.7568627450980392, 0.6823529411764706, 0.6235294117647059], [0.7215686274509804, 0.6470588235294118, 0.5882352941176471], [0.6509803921568628, 0.5764705882352941, 0.5176470588235295], [0.5882352941176471, 0.5137254901960784, 0.4549019607843137], [0.5450980392156862, 0.47058823529411764, 0.4117647058823529], [0.611764705882353, 0.5450980392156862, 0.47843137254901963], [0.6274509803921569, 0.5607843137254902, 0.4980392156862745], [0.6, 0.5333333333333333, 0.47843137254901963], [0.6078431372549019, 0.5372549019607843, 0.4980392156862745], [0.6274509803921569, 0.5568627450980392, 0.5176470588235295], [0.6235294117647059, 0.5490196078431373, 0.5019607843137255], [0.6078431372549019, 0.5333333333333333, 0.47843137254901963], [0.596078431372549, 0.5215686274509804, 0.4666666666666667], [0.596078431372549, 0.5215686274509804, 0.4666666666666667], [0.5490196078431373, 0.4745098039215686, 0.4196078431372549], [0.5137254901960784, 0.4392156862745098, 0.3843137254901961]], [[0.8235294117647058, 0.8431372549019608, 0.7215686274509804], [0.792156862745098, 0.8156862745098039, 0.6745098039215687], [0.7764705882352941, 0.803921568627451, 0.6392156862745098], [0.7333333333333333, 0.7607843137254902, 0.5803921568627451], [0.6823529411764706, 0.7098039215686275, 0.5254901960784314], [0.6980392156862745, 0.7176470588235294, 0.5725490196078431], [0.803921568627451, 0.803921568627451, 0.7294117647058823], [0.8392156862745098, 0.8196078431372549, 0.792156862745098], [0.8196078431372549, 0.8, 0.7529411764705882], [0.796078431372549, 0.7607843137254902, 0.6980392156862745], [0.6431372549019608, 0.5058823529411764, 0.5098039215686274], [0.5137254901960784, 0.3176470588235294, 0.34509803921568627], [0.7058823529411765, 0.5568627450980392, 0.5490196078431373], [0.792156862745098, 0.7294117647058823, 0.6745098039215687], [0.7333333333333333, 0.6705882352941176, 0.596078431372549], [0.7137254901960784, 0.6313725490196078, 0.5647058823529412], [0.7137254901960784, 0.6313725490196078, 0.5686274509803921], [0.6627450980392157, 0.5843137254901961, 0.5176470588235295], [0.615686274509804, 0.5372549019607843, 0.47843137254901963], [0.5450980392156862, 0.47058823529411764, 0.4117647058823529], [0.5254901960784314, 0.45098039215686275, 0.39215686274509803], [0.6, 0.5294117647058824, 0.4666666666666667], [0.6039215686274509, 0.5372549019607843, 0.4745098039215686], [0.5647058823529412, 0.49411764705882355, 0.4392156862745098], [0.592156862745098, 0.5215686274509804, 0.47843137254901963], [0.5529411764705883, 0.4823529411764706, 0.44313725490196076], [0.5137254901960784, 0.4392156862745098, 0.39215686274509803], [0.5529411764705883, 0.47843137254901963, 0.4235294117647059], [0.615686274509804, 0.5411764705882353, 0.48627450980392156], [0.6078431372549019, 0.5333333333333333, 0.47843137254901963], [0.5882352941176471, 0.5137254901960784, 0.4588235294117647], [0.5764705882352941, 0.5019607843137255, 0.4470588235294118]], [[0.8235294117647058, 0.8392156862745098, 0.7176470588235294], [0.7843137254901961, 0.803921568627451, 0.6627450980392157], [0.7607843137254902, 0.7843137254901961, 0.6196078431372549], [0.7098039215686275, 0.7372549019607844, 0.5568627450980392], [0.6588235294117647, 0.6901960784313725, 0.49411764705882355], [0.6588235294117647, 0.6862745098039216, 0.5176470588235295], [0.7686274509803922, 0.7764705882352941, 0.6980392156862745], [0.8431372549019608, 0.8313725490196079, 0.8], [0.8313725490196079, 0.8156862745098039, 0.7647058823529411], [0.7803921568627451, 0.7529411764705882, 0.6862745098039216], [0.7411764705882353, 0.6274509803921569, 0.615686274509804], [0.7215686274509804, 0.5568627450980392, 0.5647058823529412], [0.796078431372549, 0.6666666666666666, 0.6431372549019608], [0.7254901960784313, 0.6588235294117647, 0.596078431372549], [0.6784313725490196, 0.6078431372549019, 0.5294117647058824], [0.6745098039215687, 0.5843137254901961, 0.5137254901960784], [0.6392156862745098, 0.5529411764705883, 0.48627450980392156], [0.6078431372549019, 0.5215686274509804, 0.4549019607843137], [0.5764705882352941, 0.4980392156862745, 0.43529411764705883], [0.4627450980392157, 0.39215686274509803, 0.32941176470588235], [0.5137254901960784, 0.44313725490196076, 0.3803921568627451], [0.5803921568627451, 0.5137254901960784, 0.45098039215686275], [0.5686274509803921, 0.5019607843137255, 0.44313725490196076], [0.5529411764705883, 0.4823529411764706, 0.42745098039215684], [0.5647058823529412, 0.49411764705882355, 0.4470588235294118], [0.5176470588235295, 0.4470588235294118, 0.4], [0.4980392156862745, 0.4235294117647059, 0.37254901960784315], [0.5215686274509804, 0.4470588235294118, 0.39215686274509803], [0.5843137254901961, 0.5098039215686274, 0.4549019607843137], [0.6392156862745098, 0.5647058823529412, 0.5098039215686274], [0.6352941176470588, 0.5647058823529412, 0.5098039215686274], [0.611764705882353, 0.5372549019607843, 0.4823529411764706]], [[0.8156862745098039, 0.8235294117647058, 0.6941176470588235], [0.7607843137254902, 0.7686274509803922, 0.6313725490196078], [0.7411764705882353, 0.7529411764705882, 0.6], [0.7058823529411765, 0.7176470588235294, 0.5568627450980392], [0.6352941176470588, 0.6627450980392157, 0.4666666666666667], [0.6196078431372549, 0.6509803921568628, 0.47843137254901963], [0.7411764705882353, 0.7529411764705882, 0.6980392156862745], [0.8274509803921568, 0.8235294117647058, 0.8], [0.8274509803921568, 0.8196078431372549, 0.7725490196078432], [0.7725490196078432, 0.7529411764705882, 0.7058823529411765], [0.7607843137254902, 0.7137254901960784, 0.6666666666666666], [0.7803921568627451, 0.7058823529411765, 0.6588235294117647], [0.7490196078431373, 0.6705882352941176, 0.615686274509804], [0.6745098039215687, 0.6, 0.5294117647058824], [0.6392156862745098, 0.5529411764705883, 0.47843137254901963], [0.6431372549019608, 0.5490196078431373, 0.4823529411764706], [0.6196078431372549, 0.5254901960784314, 0.4666666666666667], [0.5764705882352941, 0.49019607843137253, 0.42745098039215684], [0.5098039215686274, 0.43529411764705883, 0.3686274509803922], [0.42745098039215684, 0.3607843137254902, 0.29411764705882354], [0.5372549019607843, 0.47058823529411764, 0.40784313725490196], [0.5647058823529412, 0.49411764705882355, 0.43529411764705883], [0.5647058823529412, 0.49411764705882355, 0.4392156862745098], [0.5686274509803921, 0.4980392156862745, 0.44313725490196076], [0.5647058823529412, 0.49411764705882355, 0.4392156862745098], [0.5176470588235295, 0.4470588235294118, 0.39215686274509803], [0.48627450980392156, 0.4117647058823529, 0.3607843137254902], [0.5254901960784314, 0.4549019607843137, 0.4], [0.592156862745098, 0.5215686274509804, 0.4666666666666667], [0.6352941176470588, 0.5647058823529412, 0.5098039215686274], [0.6235294117647059, 0.5529411764705883, 0.49411764705882355], [0.5764705882352941, 0.5058823529411764, 0.45098039215686275]], [[0.7607843137254902, 0.7686274509803922, 0.6392156862745098], [0.6941176470588235, 0.7019607843137254, 0.5647058823529412], [0.6901960784313725, 0.7019607843137254, 0.5529411764705883], [0.7098039215686275, 0.7254901960784313, 0.5686274509803921], [0.6235294117647059, 0.6509803921568628, 0.4549019607843137], [0.5607843137254902, 0.592156862745098, 0.4196078431372549], [0.7019607843137254, 0.7098039215686275, 0.6627450980392157], [0.803921568627451, 0.8, 0.7843137254901961], [0.8156862745098039, 0.803921568627451, 0.7607843137254902], [0.7803921568627451, 0.7607843137254902, 0.7176470588235294], [0.7607843137254902, 0.7294117647058823, 0.6745098039215687], [0.7450980392156863, 0.7019607843137254, 0.6392156862745098], [0.7098039215686275, 0.6509803921568628, 0.5882352941176471], [0.6470588235294118, 0.5725490196078431, 0.5058823529411764], [0.611764705882353, 0.5215686274509804, 0.45098039215686275], [0.6313725490196078, 0.5333333333333333, 0.4745098039215686], [0.5843137254901961, 0.49411764705882355, 0.4392156862745098], [0.5333333333333333, 0.4470588235294118, 0.39215686274509803], [0.4392156862745098, 0.36470588235294116, 0.3058823529411765], [0.4470588235294118, 0.3803921568627451, 0.3176470588235294], [0.5372549019607843, 0.47058823529411764, 0.40784313725490196], [0.5215686274509804, 0.45098039215686275, 0.396078431372549], [0.5411764705882353, 0.47058823529411764, 0.41568627450980394], [0.5725490196078431, 0.5019607843137255, 0.4470588235294118], [0.5725490196078431, 0.5019607843137255, 0.4470588235294118], [0.5137254901960784, 0.44313725490196076, 0.38823529411764707], [0.5137254901960784, 0.44313725490196076, 0.38823529411764707], [0.5647058823529412, 0.49411764705882355, 0.4392156862745098], [0.5882352941176471, 0.5176470588235295, 0.4627450980392157], [0.5843137254901961, 0.5137254901960784, 0.4588235294117647], [0.5803921568627451, 0.5098039215686274, 0.4549019607843137], [0.5529411764705883, 0.4823529411764706, 0.43137254901960786]], [[0.6745098039215687, 0.6941176470588235, 0.5568627450980392], [0.615686274509804, 0.6313725490196078, 0.49411764705882355], [0.6470588235294118, 0.6666666666666666, 0.5137254901960784], [0.6980392156862745, 0.7215686274509804, 0.5607843137254902], [0.6549019607843137, 0.6823529411764706, 0.48627450980392156], [0.5215686274509804, 0.5490196078431373, 0.37254901960784315], [0.611764705882353, 0.611764705882353, 0.5686274509803921], [0.7803921568627451, 0.7647058823529411, 0.7529411764705882], [0.807843137254902, 0.788235294117647, 0.7450980392156863], [0.7803921568627451, 0.7568627450980392, 0.7176470588235294], [0.7803921568627451, 0.7490196078431373, 0.6980392156862745], [0.7607843137254902, 0.7137254901960784, 0.6588235294117647], [0.6274509803921569, 0.5686274509803921, 0.5098039215686274], [0.5215686274509804, 0.44313725490196076, 0.3843137254901961], [0.5176470588235295, 0.4235294117647059, 0.3607843137254902], [0.5450980392156862, 0.45098039215686275, 0.396078431372549], [0.5490196078431373, 0.4627450980392157, 0.40784313725490196], [0.49411764705882355, 0.41568627450980394, 0.3607843137254902], [0.4196078431372549, 0.34901960784313724, 0.29411764705882354], [0.49411764705882355, 0.43137254901960786, 0.37254901960784315], [0.5098039215686274, 0.4470588235294118, 0.38823529411764707], [0.5058823529411764, 0.4392156862745098, 0.3803921568627451], [0.5411764705882353, 0.47058823529411764, 0.41568627450980394], [0.5843137254901961, 0.5137254901960784, 0.4549019607843137], [0.5529411764705883, 0.4823529411764706, 0.42745098039215684], [0.5490196078431373, 0.47843137254901963, 0.4235294117647059], [0.5686274509803921, 0.4980392156862745, 0.44313725490196076], [0.5568627450980392, 0.48627450980392156, 0.43137254901960786], [0.5333333333333333, 0.4588235294117647, 0.403921568627451], [0.5490196078431373, 0.47843137254901963, 0.4235294117647059], [0.5843137254901961, 0.5098039215686274, 0.4549019607843137], [0.596078431372549, 0.5254901960784314, 0.4666666666666667]], [[0.592156862745098, 0.615686274509804, 0.4823529411764706], [0.5254901960784314, 0.5490196078431373, 0.40784313725490196], [0.5647058823529412, 0.592156862745098, 0.4392156862745098], [0.6078431372549019, 0.6313725490196078, 0.47058823529411764], [0.6196078431372549, 0.6509803921568628, 0.4549019607843137], [0.49019607843137253, 0.5098039215686274, 0.3411764705882353], [0.5098039215686274, 0.5019607843137255, 0.4627450980392157], [0.7176470588235294, 0.6941176470588235, 0.6823529411764706], [0.7725490196078432, 0.7490196078431373, 0.7098039215686275], [0.7490196078431373, 0.7176470588235294, 0.6823529411764706], [0.7176470588235294, 0.6862745098039216, 0.6431372549019608], [0.6470588235294118, 0.6039215686274509, 0.5529411764705883], [0.5019607843137255, 0.4392156862745098, 0.38823529411764707], [0.403921568627451, 0.3254901960784314, 0.27058823529411763], [0.3686274509803922, 0.2784313725490196, 0.2235294117647059], [0.4117647058823529, 0.3254901960784314, 0.27450980392156865], [0.4666666666666667, 0.38823529411764707, 0.3411764705882353], [0.4392156862745098, 0.3686274509803922, 0.3176470588235294], [0.4588235294117647, 0.396078431372549, 0.34509803921568627], [0.48627450980392156, 0.43137254901960786, 0.3764705882352941], [0.4745098039215686, 0.4235294117647059, 0.36470588235294116], [0.49019607843137253, 0.4235294117647059, 0.3686274509803922], [0.5450980392156862, 0.4745098039215686, 0.4196078431372549], [0.5607843137254902, 0.49411764705882355, 0.4392156862745098], [0.5450980392156862, 0.4745098039215686, 0.4196078431372549], [0.5490196078431373, 0.47843137254901963, 0.4235294117647059], [0.5058823529411764, 0.43529411764705883, 0.3803921568627451], [0.49019607843137253, 0.4196078431372549, 0.36470588235294116], [0.5176470588235295, 0.45098039215686275, 0.396078431372549], [0.5843137254901961, 0.5176470588235295, 0.4627450980392157], [0.6078431372549019, 0.5372549019607843, 0.4823529411764706], [0.5882352941176471, 0.5176470588235295, 0.4627450980392157]]]]}'"
            ]
          },
          "metadata": {
            "tags": []
          },
          "execution_count": 48
        }
      ]
    },
    {
      "cell_type": "markdown",
      "metadata": {
        "id": "KZDKjyfbPoIa",
        "colab_type": "text"
      },
      "source": [
        "### Sending the first POST request to the model"
      ]
    },
    {
      "cell_type": "code",
      "metadata": {
        "id": "7oFbtxiyPe4p",
        "colab_type": "code",
        "colab": {}
      },
      "source": [
        "headers = {\"content-type\":\"application/json\"}"
      ],
      "execution_count": 0,
      "outputs": []
    },
    {
      "cell_type": "code",
      "metadata": {
        "id": "I5KHh02nQYIJ",
        "colab_type": "code",
        "colab": {}
      },
      "source": [
        "# models name - cifar10 \n",
        "# \n",
        "json_response = requests.post(url=\"http://localhost:8501/v1/models/cifar10:predict\", data=data, headers=headers)"
      ],
      "execution_count": 0,
      "outputs": []
    },
    {
      "cell_type": "code",
      "metadata": {
        "id": "bMYkCQ4gQ2tR",
        "colab_type": "code",
        "outputId": "a8c8e605-c663-4c75-c470-49d0f9d1b666",
        "colab": {
          "base_uri": "https://localhost:8080/",
          "height": 34
        }
      },
      "source": [
        "json_response"
      ],
      "execution_count": 51,
      "outputs": [
        {
          "output_type": "execute_result",
          "data": {
            "text/plain": [
              "<Response [200]>"
            ]
          },
          "metadata": {
            "tags": []
          },
          "execution_count": 51
        }
      ]
    },
    {
      "cell_type": "code",
      "metadata": {
        "id": "UtoG2441Q4_I",
        "colab_type": "code",
        "colab": {}
      },
      "source": [
        "predictions = json.loads(json_response.text)['predictions']"
      ],
      "execution_count": 0,
      "outputs": []
    },
    {
      "cell_type": "code",
      "metadata": {
        "id": "hA-jN6xSRK2S",
        "colab_type": "code",
        "outputId": "c2ceb1a5-fd1e-4fac-9842-fc110e7960ca",
        "colab": {
          "base_uri": "https://localhost:8080/",
          "height": 187
        }
      },
      "source": [
        "predictions"
      ],
      "execution_count": 53,
      "outputs": [
        {
          "output_type": "execute_result",
          "data": {
            "text/plain": [
              "[[8.17818e-06,\n",
              "  7.08552605e-10,\n",
              "  0.00158579159,\n",
              "  0.98218,\n",
              "  0.00616133446,\n",
              "  0.0070982459,\n",
              "  0.00113742647,\n",
              "  0.00182761857,\n",
              "  1.22550443e-06,\n",
              "  1.96120169e-07]]"
            ]
          },
          "metadata": {
            "tags": []
          },
          "execution_count": 53
        }
      ]
    },
    {
      "cell_type": "code",
      "metadata": {
        "id": "KlyFNxrxRL_A",
        "colab_type": "code",
        "outputId": "5c109d88-beee-4b0d-b7d1-3b2df01fc203",
        "colab": {
          "base_uri": "https://localhost:8080/",
          "height": 286
        }
      },
      "source": [
        "plt.imshow(X_test[random_image])"
      ],
      "execution_count": 54,
      "outputs": [
        {
          "output_type": "execute_result",
          "data": {
            "text/plain": [
              "<matplotlib.image.AxesImage at 0x7f06e0048128>"
            ]
          },
          "metadata": {
            "tags": []
          },
          "execution_count": 54
        },
        {
          "output_type": "display_data",
          "data": {
            "image/png": "[encoded data removed]",
            "text/plain": [
              "<Figure size 432x288 with 1 Axes>"
            ]
          },
          "metadata": {
            "tags": []
          }
        }
      ]
    },
    {
      "cell_type": "code",
      "metadata": {
        "id": "E3WbrMl_RW1Y",
        "colab_type": "code",
        "outputId": "874deca7-b377-45d2-db28-d459c1caaff5",
        "colab": {
          "base_uri": "https://localhost:8080/",
          "height": 34
        }
      },
      "source": [
        "class_names[np.argmax(predictions[0])]"
      ],
      "execution_count": 55,
      "outputs": [
        {
          "output_type": "execute_result",
          "data": {
            "text/plain": [
              "'cat'"
            ]
          },
          "metadata": {
            "tags": []
          },
          "execution_count": 55
        }
      ]
    },
    {
      "cell_type": "markdown",
      "metadata": {
        "id": "OVN6T3tFR_IQ",
        "colab_type": "text"
      },
      "source": [
        "## Stage 8: Sending the POST request to a specific model"
      ]
    },
    {
      "cell_type": "code",
      "metadata": {
        "id": "5TYXGo-XRkCo",
        "colab_type": "code",
        "colab": {}
      },
      "source": [
        "specific_json_response = requests.post(url=\"http://localhost:8501/v1/models/cifar10/versions/1:predict\", data=data, headers=headers)"
      ],
      "execution_count": 0,
      "outputs": []
    },
    {
      "cell_type": "code",
      "metadata": {
        "id": "TF9nOKVeS9ER",
        "colab_type": "code",
        "outputId": "72bdb566-9682-4b72-bf8a-08f495ddc627",
        "colab": {
          "base_uri": "https://localhost:8080/",
          "height": 34
        }
      },
      "source": [
        "specific_json_response"
      ],
      "execution_count": 35,
      "outputs": [
        {
          "output_type": "execute_result",
          "data": {
            "text/plain": [
              "<Response [200]>"
            ]
          },
          "metadata": {
            "tags": []
          },
          "execution_count": 35
        }
      ]
    },
    {
      "cell_type": "code",
      "metadata": {
        "id": "EZGwCkeMS-qg",
        "colab_type": "code",
        "colab": {}
      },
      "source": [
        ""
      ],
      "execution_count": 0,
      "outputs": []
    }
  ]
}