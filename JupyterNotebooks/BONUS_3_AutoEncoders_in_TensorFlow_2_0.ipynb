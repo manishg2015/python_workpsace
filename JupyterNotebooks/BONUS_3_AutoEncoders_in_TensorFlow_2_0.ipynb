{
  "nbformat": 4,
  "nbformat_minor": 0,
  "metadata": {
    "colab": {
      "name": "BONUS 3 AutoEncoders in TensorFlow 2.0.ipynb",
      "version": "0.3.2",
      "provenance": [],
      "collapsed_sections": []
    },
    "kernelspec": {
      "name": "python3",
      "display_name": "Python 3"
    },
    "accelerator": "GPU"
  },
  "cells": [
    {
      "cell_type": "markdown",
      "metadata": {
        "id": "rq_j_xBJqUk6",
        "colab_type": "text"
      },
      "source": [
        "\n",
        "<center><img src=\"https://i.ibb.co/8PYwxbB/autoencoder.png\"></center>"
      ]
    },
    {
      "cell_type": "code",
      "metadata": {
        "id": "ENrlUPSR4flv",
        "colab_type": "code",
        "outputId": "19ceb6b0-642f-4212-ae22-7d65a8fcb705",
        "colab": {
          "base_uri": "https://localhost:8080/",
          "height": 392
        }
      },
      "source": [
        "!pip install tensorflow-gpu==2.0.0.alpha0"
      ],
      "execution_count": 0,
      "outputs": [
        {
          "output_type": "stream",
          "text": [
            "Requirement already satisfied: tensorflow-gpu==2.0.0.alpha0 in /usr/local/lib/python3.6/dist-packages (2.0.0a0)\n",
            "Requirement already satisfied: grpcio>=1.8.6 in /usr/local/lib/python3.6/dist-packages (from tensorflow-gpu==2.0.0.alpha0) (1.15.0)\n",
            "Requirement already satisfied: keras-preprocessing>=1.0.5 in /usr/local/lib/python3.6/dist-packages (from tensorflow-gpu==2.0.0.alpha0) (1.1.0)\n",
            "Requirement already satisfied: google-pasta>=0.1.2 in /usr/local/lib/python3.6/dist-packages (from tensorflow-gpu==2.0.0.alpha0) (0.1.7)\n",
            "Requirement already satisfied: protobuf>=3.6.1 in /usr/local/lib/python3.6/dist-packages (from tensorflow-gpu==2.0.0.alpha0) (3.7.1)\n",
            "Requirement already satisfied: gast>=0.2.0 in /usr/local/lib/python3.6/dist-packages (from tensorflow-gpu==2.0.0.alpha0) (0.2.2)\n",
            "Requirement already satisfied: astor>=0.6.0 in /usr/local/lib/python3.6/dist-packages (from tensorflow-gpu==2.0.0.alpha0) (0.8.0)\n",
            "Requirement already satisfied: termcolor>=1.1.0 in /usr/local/lib/python3.6/dist-packages (from tensorflow-gpu==2.0.0.alpha0) (1.1.0)\n",
            "Requirement already satisfied: tf-estimator-nightly<1.14.0.dev2019030116,>=1.14.0.dev2019030115 in /usr/local/lib/python3.6/dist-packages (from tensorflow-gpu==2.0.0.alpha0) (1.14.0.dev2019030115)\n",
            "Requirement already satisfied: absl-py>=0.7.0 in /usr/local/lib/python3.6/dist-packages (from tensorflow-gpu==2.0.0.alpha0) (0.7.1)\n",
            "Requirement already satisfied: six>=1.10.0 in /usr/local/lib/python3.6/dist-packages (from tensorflow-gpu==2.0.0.alpha0) (1.12.0)\n",
            "Requirement already satisfied: wheel>=0.26 in /usr/local/lib/python3.6/dist-packages (from tensorflow-gpu==2.0.0.alpha0) (0.33.4)\n",
            "Requirement already satisfied: tb-nightly<1.14.0a20190302,>=1.14.0a20190301 in /usr/local/lib/python3.6/dist-packages (from tensorflow-gpu==2.0.0.alpha0) (1.14.0a20190301)\n",
            "Requirement already satisfied: numpy<2.0,>=1.14.5 in /usr/local/lib/python3.6/dist-packages (from tensorflow-gpu==2.0.0.alpha0) (1.16.4)\n",
            "Requirement already satisfied: keras-applications>=1.0.6 in /usr/local/lib/python3.6/dist-packages (from tensorflow-gpu==2.0.0.alpha0) (1.0.8)\n",
            "Requirement already satisfied: setuptools in /usr/local/lib/python3.6/dist-packages (from protobuf>=3.6.1->tensorflow-gpu==2.0.0.alpha0) (41.0.1)\n",
            "Requirement already satisfied: markdown>=2.6.8 in /usr/local/lib/python3.6/dist-packages (from tb-nightly<1.14.0a20190302,>=1.14.0a20190301->tensorflow-gpu==2.0.0.alpha0) (3.1.1)\n",
            "Requirement already satisfied: werkzeug>=0.11.15 in /usr/local/lib/python3.6/dist-packages (from tb-nightly<1.14.0a20190302,>=1.14.0a20190301->tensorflow-gpu==2.0.0.alpha0) (0.15.4)\n",
            "Requirement already satisfied: h5py in /usr/local/lib/python3.6/dist-packages (from keras-applications>=1.0.6->tensorflow-gpu==2.0.0.alpha0) (2.8.0)\n"
          ],
          "name": "stdout"
        }
      ]
    },
    {
      "cell_type": "markdown",
      "metadata": {
        "id": "-u90lfTrLDnD",
        "colab_type": "text"
      },
      "source": [
        "## Stage 2:  Import project dependencies"
      ]
    },
    {
      "cell_type": "code",
      "metadata": {
        "id": "hu3aedKp4q5R",
        "colab_type": "code",
        "outputId": "0c2afa40-fad1-4009-fec1-b5bd2dd39e9e",
        "colab": {
          "base_uri": "https://localhost:8080/",
          "height": 36
        }
      },
      "source": [
        "import numpy as np\n",
        "import tensorflow as tf\n",
        "import matplotlib.pyplot as plt\n",
        "\n",
        "from tensorflow.keras.datasets import mnist\n",
        "\n",
        "tf.__version__"
      ],
      "execution_count": 0,
      "outputs": [
        {
          "output_type": "execute_result",
          "data": {
            "text/plain": [
              "'2.0.0-alpha0'"
            ]
          },
          "metadata": {
            "tags": []
          },
          "execution_count": 38
        }
      ]
    },
    {
      "cell_type": "markdown",
      "metadata": {
        "id": "eddyVRHWLNQ3",
        "colab_type": "text"
      },
      "source": [
        "## Stage 3: Dataset preprocessing\n",
        "\n",
        "### Import the dataset"
      ]
    },
    {
      "cell_type": "code",
      "metadata": {
        "id": "2L-k511I4_Lp",
        "colab_type": "code",
        "colab": {}
      },
      "source": [
        "(X_train, y_train),(X_test, y_test) = mnist.load_data()"
      ],
      "execution_count": 0,
      "outputs": []
    },
    {
      "cell_type": "code",
      "metadata": {
        "id": "KRh9UqFT5QHJ",
        "colab_type": "code",
        "outputId": "f4986bf0-0b64-44d3-f3c4-9966a2a0c452",
        "colab": {
          "base_uri": "https://localhost:8080/",
          "height": 288
        }
      },
      "source": [
        "plt.imshow(X_train[0], cmap=\"gray\")"
      ],
      "execution_count": 0,
      "outputs": [
        {
          "output_type": "execute_result",
          "data": {
            "text/plain": [
              "<matplotlib.image.AxesImage at 0x7f23c417bdd8>"
            ]
          },
          "metadata": {
            "tags": []
          },
          "execution_count": 40
        },
        {
          "output_type": "display_data",
          "data": {
            "image/png": "[encoded data removed]",
            "text/plain": [
              "<Figure size 432x288 with 1 Axes>"
            ]
          },
          "metadata": {
            "tags": []
          }
        }
      ]
    },
    {
      "cell_type": "markdown",
      "metadata": {
        "id": "wYJ1XIohLRS4",
        "colab_type": "text"
      },
      "source": [
        "### Normalize images"
      ]
    },
    {
      "cell_type": "code",
      "metadata": {
        "id": "78nPr2nYGECR",
        "colab_type": "code",
        "colab": {}
      },
      "source": [
        "X_train = X_train / 255.\n",
        "X_test = X_test / 255."
      ],
      "execution_count": 0,
      "outputs": []
    },
    {
      "cell_type": "markdown",
      "metadata": {
        "id": "NpH-rzTbG7pR",
        "colab_type": "text"
      },
      "source": [
        "### Generate noise dataset"
      ]
    },
    {
      "cell_type": "code",
      "metadata": {
        "id": "GD7mw-wVHGLO",
        "colab_type": "code",
        "colab": {}
      },
      "source": [
        "noise_factor = 0.3"
      ],
      "execution_count": 0,
      "outputs": []
    },
    {
      "cell_type": "code",
      "metadata": {
        "id": "3e2qlMp_G6BA",
        "colab_type": "code",
        "colab": {}
      },
      "source": [
        "noise_dataset = []"
      ],
      "execution_count": 0,
      "outputs": []
    },
    {
      "cell_type": "code",
      "metadata": {
        "id": "qwVe_5XAHAl8",
        "colab_type": "code",
        "colab": {}
      },
      "source": [
        "for img in X_train:\n",
        "  noisy_image = img + noise_factor * np.random.randn(*img.shape)\n",
        "  noisy_image = np.clip(noisy_image, 0., 1.)\n",
        "  noise_dataset.append(noisy_image)"
      ],
      "execution_count": 0,
      "outputs": []
    },
    {
      "cell_type": "code",
      "metadata": {
        "id": "kkbAFnuZHdr1",
        "colab_type": "code",
        "colab": {}
      },
      "source": [
        "noise_dataset = np.array(noise_dataset)"
      ],
      "execution_count": 0,
      "outputs": []
    },
    {
      "cell_type": "code",
      "metadata": {
        "id": "KLYfUVPPHhjU",
        "colab_type": "code",
        "outputId": "cbfb8ba5-24c7-4b78-ced2-880f403b4a06",
        "colab": {
          "base_uri": "https://localhost:8080/",
          "height": 36
        }
      },
      "source": [
        "noise_dataset.shape"
      ],
      "execution_count": 0,
      "outputs": [
        {
          "output_type": "execute_result",
          "data": {
            "text/plain": [
              "(60000, 28, 28)"
            ]
          },
          "metadata": {
            "tags": []
          },
          "execution_count": 46
        }
      ]
    },
    {
      "cell_type": "code",
      "metadata": {
        "id": "kOSj_v4kHqO9",
        "colab_type": "code",
        "outputId": "e3dc3cd9-11b2-4979-af41-b3882cfa9d9e",
        "colab": {
          "base_uri": "https://localhost:8080/",
          "height": 288
        }
      },
      "source": [
        "plt.imshow(noise_dataset[1], cmap=\"gray\")"
      ],
      "execution_count": 0,
      "outputs": [
        {
          "output_type": "execute_result",
          "data": {
            "text/plain": [
              "<matplotlib.image.AxesImage at 0x7f23c4154b70>"
            ]
          },
          "metadata": {
            "tags": []
          },
          "execution_count": 47
        },
        {
          "output_type": "display_data",
          "data": {
            "image/png": "[encoded data removed]",
            "text/plain": [
              "<Figure size 432x288 with 1 Axes>"
            ]
          },
          "metadata": {
            "tags": []
          }
        }
      ]
    },
    {
      "cell_type": "code",
      "metadata": {
        "id": "dVQRwpd_I-Hz",
        "colab_type": "code",
        "outputId": "795ec0e9-31a8-48fb-e9bb-2b902c3402a8",
        "colab": {
          "base_uri": "https://localhost:8080/",
          "height": 36
        }
      },
      "source": [
        "noise_test_set = []\n",
        "for img in X_test:\n",
        "  noisy_image = img + noise_factor * np.random.randn(*img.shape)\n",
        "  noisy_image = np.clip(noisy_image, 0., 1.)\n",
        "  noise_test_set.append(noisy_image)\n",
        "  \n",
        "noise_test_set = np.array(noise_test_set)\n",
        "noise_test_set.shape"
      ],
      "execution_count": 0,
      "outputs": [
        {
          "output_type": "execute_result",
          "data": {
            "text/plain": [
              "(10000, 28, 28)"
            ]
          },
          "metadata": {
            "tags": []
          },
          "execution_count": 48
        }
      ]
    },
    {
      "cell_type": "markdown",
      "metadata": {
        "id": "52yAQSztDNME",
        "colab_type": "text"
      },
      "source": [
        "## Stage 3: Defining the AutoEncoder"
      ]
    },
    {
      "cell_type": "code",
      "metadata": {
        "id": "9UjXbGZOnyw_",
        "colab_type": "code",
        "outputId": "931beee5-9167-4ace-cb8c-a747ec024af0",
        "colab": {
          "base_uri": "https://localhost:8080/",
          "height": 354
        }
      },
      "source": [
        "model = tf.keras.models.Sequential()\n",
        "#Encoder\n",
        "model.add(tf.keras.layers.Conv2D(filters=16, kernel_size=3, strides=2, padding=\"same\", input_shape=(28, 28, 1)))\n",
        "model.add(tf.keras.layers.Conv2D(filters=8, kernel_size=3, strides=2, padding=\"same\"))\n",
        "#Encoded image\n",
        "model.add(tf.keras.layers.Conv2D(filters=8, kernel_size=3, strides=1, padding=\"same\"))\n",
        "#Decoder\n",
        "model.add(tf.keras.layers.Conv2DTranspose(filters=16, kernel_size=3, strides=2, padding=\"same\"))\n",
        "model.add(tf.keras.layers.Conv2DTranspose(filters=1, kernel_size=3, strides=2, activation='sigmoid', padding=\"same\"))\n",
        "model.compile(loss='binary_crossentropy', optimizer=tf.keras.optimizers.Adam(lr=0.001))\n",
        "model.summary()"
      ],
      "execution_count": 0,
      "outputs": [
        {
          "output_type": "stream",
          "text": [
            "Model: \"sequential_11\"\n",
            "_________________________________________________________________\n",
            "Layer (type)                 Output Shape              Param #   \n",
            "=================================================================\n",
            "conv2d_21 (Conv2D)           (None, 14, 14, 16)        160       \n",
            "_________________________________________________________________\n",
            "conv2d_22 (Conv2D)           (None, 7, 7, 8)           1160      \n",
            "_________________________________________________________________\n",
            "conv2d_23 (Conv2D)           (None, 7, 7, 8)           584       \n",
            "_________________________________________________________________\n",
            "conv2d_transpose_11 (Conv2DT (None, 14, 14, 16)        1168      \n",
            "_________________________________________________________________\n",
            "conv2d_transpose_12 (Conv2DT (None, 28, 28, 1)         145       \n",
            "=================================================================\n",
            "Total params: 3,217\n",
            "Trainable params: 3,217\n",
            "Non-trainable params: 0\n",
            "_________________________________________________________________\n"
          ],
          "name": "stdout"
        }
      ]
    },
    {
      "cell_type": "markdown",
      "metadata": {
        "id": "BnFGSKnuK6Xh",
        "colab_type": "text"
      },
      "source": [
        "### Train the AutoEncoder"
      ]
    },
    {
      "cell_type": "code",
      "metadata": {
        "id": "8gtCPmKoDxGK",
        "colab_type": "code",
        "outputId": "4e88fc9f-9aa6-4189-b613-ed46466fef45",
        "colab": {
          "base_uri": "https://localhost:8080/",
          "height": 1924
        }
      },
      "source": [
        "model.fit(noise_dataset.reshape(-1, 28, 28, 1), \n",
        "          X_train.reshape(-1, 28, 28, 1), \n",
        "          epochs=50, \n",
        "          batch_size=200, \n",
        "          validation_data=(noise_test_set.reshape(-1, 28, 28, 1), X_test.reshape(-1, 28, 28, 1)))"
      ],
      "execution_count": 0,
      "outputs": [
        {
          "output_type": "stream",
          "text": [
            "Train on 60000 samples, validate on 10000 samples\n",
            "Epoch 1/50\n",
            "60000/60000 [==============================] - 4s 63us/sample - loss: 0.2571 - val_loss: 0.1134\n",
            "Epoch 2/50\n",
            "60000/60000 [==============================] - 4s 59us/sample - loss: 0.1041 - val_loss: 0.0962\n",
            "Epoch 3/50\n",
            "60000/60000 [==============================] - 4s 59us/sample - loss: 0.0946 - val_loss: 0.0915\n",
            "Epoch 4/50\n",
            "60000/60000 [==============================] - 3s 58us/sample - loss: 0.0916 - val_loss: 0.0897\n",
            "Epoch 5/50\n",
            "60000/60000 [==============================] - 3s 58us/sample - loss: 0.0900 - val_loss: 0.0885\n",
            "Epoch 6/50\n",
            "60000/60000 [==============================] - 4s 59us/sample - loss: 0.0888 - val_loss: 0.0874\n",
            "Epoch 7/50\n",
            "60000/60000 [==============================] - 4s 58us/sample - loss: 0.0880 - val_loss: 0.0867\n",
            "Epoch 8/50\n",
            "60000/60000 [==============================] - 4s 59us/sample - loss: 0.0873 - val_loss: 0.0863\n",
            "Epoch 9/50\n",
            "60000/60000 [==============================] - 3s 58us/sample - loss: 0.0869 - val_loss: 0.0861\n",
            "Epoch 10/50\n",
            "60000/60000 [==============================] - 3s 58us/sample - loss: 0.0866 - val_loss: 0.0857\n",
            "Epoch 11/50\n",
            "60000/60000 [==============================] - 3s 57us/sample - loss: 0.0864 - val_loss: 0.0855\n",
            "Epoch 12/50\n",
            "60000/60000 [==============================] - 3s 57us/sample - loss: 0.0862 - val_loss: 0.0854\n",
            "Epoch 13/50\n",
            "60000/60000 [==============================] - 3s 58us/sample - loss: 0.0861 - val_loss: 0.0853\n",
            "Epoch 14/50\n",
            "60000/60000 [==============================] - 3s 58us/sample - loss: 0.0860 - val_loss: 0.0853\n",
            "Epoch 15/50\n",
            "60000/60000 [==============================] - 3s 58us/sample - loss: 0.0859 - val_loss: 0.0851\n",
            "Epoch 16/50\n",
            "60000/60000 [==============================] - 3s 58us/sample - loss: 0.0859 - val_loss: 0.0851\n",
            "Epoch 17/50\n",
            "60000/60000 [==============================] - 3s 58us/sample - loss: 0.0858 - val_loss: 0.0850\n",
            "Epoch 18/50\n",
            "60000/60000 [==============================] - 3s 58us/sample - loss: 0.0857 - val_loss: 0.0849\n",
            "Epoch 19/50\n",
            "60000/60000 [==============================] - 3s 58us/sample - loss: 0.0857 - val_loss: 0.0849\n",
            "Epoch 20/50\n",
            "60000/60000 [==============================] - 3s 58us/sample - loss: 0.0856 - val_loss: 0.0849\n",
            "Epoch 21/50\n",
            "60000/60000 [==============================] - 3s 58us/sample - loss: 0.0856 - val_loss: 0.0850\n",
            "Epoch 22/50\n",
            "60000/60000 [==============================] - 3s 58us/sample - loss: 0.0856 - val_loss: 0.0848\n",
            "Epoch 23/50\n",
            "60000/60000 [==============================] - 3s 58us/sample - loss: 0.0855 - val_loss: 0.0848\n",
            "Epoch 24/50\n",
            "60000/60000 [==============================] - 3s 58us/sample - loss: 0.0855 - val_loss: 0.0848\n",
            "Epoch 25/50\n",
            "60000/60000 [==============================] - 3s 57us/sample - loss: 0.0855 - val_loss: 0.0847\n",
            "Epoch 26/50\n",
            "60000/60000 [==============================] - 3s 58us/sample - loss: 0.0854 - val_loss: 0.0848\n",
            "Epoch 27/50\n",
            "60000/60000 [==============================] - 3s 57us/sample - loss: 0.0854 - val_loss: 0.0847\n",
            "Epoch 28/50\n",
            "60000/60000 [==============================] - 3s 58us/sample - loss: 0.0854 - val_loss: 0.0846\n",
            "Epoch 29/50\n",
            "60000/60000 [==============================] - 3s 58us/sample - loss: 0.0853 - val_loss: 0.0847\n",
            "Epoch 30/50\n",
            "60000/60000 [==============================] - 3s 58us/sample - loss: 0.0853 - val_loss: 0.0846\n",
            "Epoch 31/50\n",
            "60000/60000 [==============================] - 3s 58us/sample - loss: 0.0853 - val_loss: 0.0846\n",
            "Epoch 32/50\n",
            "60000/60000 [==============================] - 3s 58us/sample - loss: 0.0853 - val_loss: 0.0846\n",
            "Epoch 33/50\n",
            "60000/60000 [==============================] - 3s 58us/sample - loss: 0.0853 - val_loss: 0.0846\n",
            "Epoch 34/50\n",
            "60000/60000 [==============================] - 3s 58us/sample - loss: 0.0853 - val_loss: 0.0845\n",
            "Epoch 35/50\n",
            "60000/60000 [==============================] - 4s 59us/sample - loss: 0.0853 - val_loss: 0.0846\n",
            "Epoch 36/50\n",
            "60000/60000 [==============================] - 4s 59us/sample - loss: 0.0853 - val_loss: 0.0846\n",
            "Epoch 37/50\n",
            "60000/60000 [==============================] - 3s 58us/sample - loss: 0.0852 - val_loss: 0.0846\n",
            "Epoch 38/50\n",
            "60000/60000 [==============================] - 3s 58us/sample - loss: 0.0852 - val_loss: 0.0846\n",
            "Epoch 39/50\n",
            "60000/60000 [==============================] - 3s 57us/sample - loss: 0.0852 - val_loss: 0.0846\n",
            "Epoch 40/50\n",
            "60000/60000 [==============================] - 3s 58us/sample - loss: 0.0852 - val_loss: 0.0845\n",
            "Epoch 41/50\n",
            "60000/60000 [==============================] - 4s 58us/sample - loss: 0.0852 - val_loss: 0.0845\n",
            "Epoch 42/50\n",
            "60000/60000 [==============================] - 3s 58us/sample - loss: 0.0852 - val_loss: 0.0846\n",
            "Epoch 43/50\n",
            "60000/60000 [==============================] - 3s 58us/sample - loss: 0.0852 - val_loss: 0.0845\n",
            "Epoch 44/50\n",
            "60000/60000 [==============================] - 3s 58us/sample - loss: 0.0852 - val_loss: 0.0845\n",
            "Epoch 45/50\n",
            "60000/60000 [==============================] - 3s 58us/sample - loss: 0.0852 - val_loss: 0.0845\n",
            "Epoch 46/50\n",
            "60000/60000 [==============================] - 3s 58us/sample - loss: 0.0852 - val_loss: 0.0846\n",
            "Epoch 47/50\n",
            "60000/60000 [==============================] - 4s 58us/sample - loss: 0.0852 - val_loss: 0.0844\n",
            "Epoch 48/50\n",
            "60000/60000 [==============================] - 3s 57us/sample - loss: 0.0852 - val_loss: 0.0844\n",
            "Epoch 49/50\n",
            "60000/60000 [==============================] - 3s 57us/sample - loss: 0.0851 - val_loss: 0.0845\n",
            "Epoch 50/50\n",
            "60000/60000 [==============================] - 3s 58us/sample - loss: 0.0851 - val_loss: 0.0844\n"
          ],
          "name": "stdout"
        },
        {
          "output_type": "execute_result",
          "data": {
            "text/plain": [
              "<tensorflow.python.keras.callbacks.History at 0x7f23c3cc7d30>"
            ]
          },
          "metadata": {
            "tags": []
          },
          "execution_count": 50
        }
      ]
    },
    {
      "cell_type": "markdown",
      "metadata": {
        "id": "MOHf2-48KyTb",
        "colab_type": "text"
      },
      "source": [
        "### De-noise images with the trained AutoEncoder"
      ]
    },
    {
      "cell_type": "code",
      "metadata": {
        "id": "RT1oGNhNFncC",
        "colab_type": "code",
        "colab": {}
      },
      "source": [
        "predicted = model.predict(noise_test_set[:10].reshape(-1, 28, 28, 1))"
      ],
      "execution_count": 0,
      "outputs": []
    },
    {
      "cell_type": "code",
      "metadata": {
        "id": "9Ryw4EPMKd2F",
        "colab_type": "code",
        "outputId": "ac4067bd-b4cb-4f86-82f9-b3a57fe28111",
        "colab": {
          "base_uri": "https://localhost:8080/",
          "height": 36
        }
      },
      "source": [
        "predicted.shape"
      ],
      "execution_count": 0,
      "outputs": [
        {
          "output_type": "execute_result",
          "data": {
            "text/plain": [
              "(10, 28, 28, 1)"
            ]
          },
          "metadata": {
            "tags": []
          },
          "execution_count": 52
        }
      ]
    },
    {
      "cell_type": "markdown",
      "metadata": {
        "id": "m4UpDQidKtwA",
        "colab_type": "text"
      },
      "source": [
        "### Visualize results"
      ]
    },
    {
      "cell_type": "code",
      "metadata": {
        "id": "zrZ9vpvgGm8J",
        "colab_type": "code",
        "outputId": "a141f720-e807-411e-a827-526cb8680e9d",
        "colab": {
          "base_uri": "https://localhost:8080/",
          "height": 244
        }
      },
      "source": [
        "fig, axes = plt.subplots(nrows=2, ncols=10, sharex=True, sharey=True, figsize=(20,4))\n",
        "for images, row in zip([noise_test_set[:10], predicted], axes):\n",
        "    for img, ax in zip(images, row):\n",
        "        ax.imshow(img.reshape((28, 28)), cmap='Greys_r')\n",
        "        ax.get_xaxis().set_visible(False)\n",
        "        ax.get_yaxis().set_visible(False)"
      ],
      "execution_count": 0,
      "outputs": [
        {
          "output_type": "display_data",
          "data": {
            "image/png": "[encoded data removed]",
            "text/plain": [
              "<Figure size 1440x288 with 20 Axes>"
            ]
          },
          "metadata": {
            "tags": []
          }
        }
      ]
    },
    {
      "cell_type": "code",
      "metadata": {
        "id": "ECVvv3yknsOj",
        "colab_type": "code",
        "colab": {}
      },
      "source": [
        ""
      ],
      "execution_count": 0,
      "outputs": []
    }
  ]
}