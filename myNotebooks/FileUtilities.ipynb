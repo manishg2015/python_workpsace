{
 "cells": [
  {
   "cell_type": "markdown",
   "metadata": {
    "ExecuteTime": {
     "end_time": "2020-07-08T12:56:52.082980Z",
     "start_time": "2020-07-08T12:56:52.079220Z"
    }
   },
   "source": [
    "# Files Utilities"
   ]
  },
  {
   "cell_type": "markdown",
   "metadata": {},
   "source": [
    "### Read  Last N lines of a file\n",
    "\n",
    "when we iterate over a file object, we get each of the file’s lines as a string, one at a time."
   ]
  },
  {
   "cell_type": "code",
   "execution_count": 10,
   "metadata": {
    "ExecuteTime": {
     "end_time": "2020-07-08T15:02:44.098704Z",
     "start_time": "2020-07-08T15:02:44.094592Z"
    }
   },
   "outputs": [],
   "source": [
    "def get_final_line(filename,N) -> str:\n",
    "    last_line = ''\n",
    "    if filename:\n",
    "        with open(filename, 'r') as f:\n",
    "           # loop to read iterate  \n",
    "            # last n lines and print it\n",
    "            lines = f.read().splitlines()\n",
    "            for line in lines[-N:]:\n",
    "                print(line)\n",
    "            \n",
    "        \n",
    "        \n",
    "    "
   ]
  },
  {
   "cell_type": "code",
   "execution_count": 11,
   "metadata": {
    "ExecuteTime": {
     "end_time": "2020-07-08T15:02:44.650026Z",
     "start_time": "2020-07-08T15:02:44.646962Z"
    }
   },
   "outputs": [
    {
     "name": "stdout",
     "output_type": "stream",
     "text": [
      "_reportmemoryexception:*:269:269:ReportMemoryException:/var/db/reportmemoryexception:/usr/bin/false\n",
      "_driverkit:*:270:270:DriverKit:/var/empty:/usr/bin/false\n"
     ]
    }
   ],
   "source": [
    "get_final_line('/etc/passwd',2)"
   ]
  },
  {
   "cell_type": "markdown",
   "metadata": {},
   "source": [
    "### Read  first and last lines of a file"
   ]
  },
  {
   "cell_type": "code",
   "execution_count": 12,
   "metadata": {
    "ExecuteTime": {
     "end_time": "2020-07-08T15:02:45.376975Z",
     "start_time": "2020-07-08T15:02:45.372693Z"
    }
   },
   "outputs": [
    {
     "name": "stdout",
     "output_type": "stream",
     "text": [
      "first line -> This is the first line.\n",
      "\n",
      "last line -> This is the last line.\n"
     ]
    }
   ],
   "source": [
    "with open(\"sample.txt\", \"r\") as file:\n",
    "    first_line = file.readline()\n",
    "    for last_line in file:\n",
    "        pass\n",
    "print(f'first line -> {first_line}')\n",
    "print(f'last line -> {last_line}')"
   ]
  },
  {
   "cell_type": "markdown",
   "metadata": {},
   "source": [
    "### Read binary file \n",
    "\n",
    "In binary file we donot read the file per line. Instead, we should be using the read method to retrieve a fixed number of bytes. When read returns 0 bytes, we’ll know that we’re at the end of the file"
   ]
  },
  {
   "cell_type": "code",
   "execution_count": 13,
   "metadata": {
    "ExecuteTime": {
     "end_time": "2020-07-08T15:02:45.817963Z",
     "start_time": "2020-07-08T15:02:45.814189Z"
    }
   },
   "outputs": [],
   "source": [
    "def readbinary_file(filename, CHUNKSIZE):\n",
    "    with open(\"filename\", \"rb\") as f:\n",
    "        bytes_read = f.read(CHUNKSIZE)\n",
    "        while bytes_read:\n",
    "            for b in bytes_read:\n",
    "                process_byte(b)\n",
    "            bytes_read = f.read(CHUNKSIZE)"
   ]
  },
  {
   "cell_type": "markdown",
   "metadata": {},
   "source": [
    "### /etc/passwd to dict"
   ]
  },
  {
   "cell_type": "code",
   "execution_count": 14,
   "metadata": {
    "ExecuteTime": {
     "end_time": "2020-07-08T15:02:46.241109Z",
     "start_time": "2020-07-08T15:02:46.237400Z"
    }
   },
   "outputs": [],
   "source": [
    "def passwd_to_dict(filename):\n",
    "    users = {}\n",
    "    with open(filename) as passwd:\n",
    "        for line in passwd:\n",
    "            if not line.startswith(('#', '\\n')):\n",
    "                user_info = line.split(':')\n",
    "                users[user_info[0]] = int(user_info[2])\n",
    "    return users"
   ]
  },
  {
   "cell_type": "code",
   "execution_count": 15,
   "metadata": {
    "ExecuteTime": {
     "end_time": "2020-07-08T15:02:46.451332Z",
     "start_time": "2020-07-08T15:02:46.447861Z"
    }
   },
   "outputs": [
    {
     "name": "stdout",
     "output_type": "stream",
     "text": [
      "{'nobody': -2, 'root': 0, 'daemon': 1, '_uucp': 4, '_taskgated': 13, '_networkd': 24, '_installassistant': 25, '_lp': 26, '_postfix': 27, '_scsd': 31, '_ces': 32, '_appstore': 33, '_mcxalr': 54, '_appleevents': 55, '_geod': 56, '_devdocs': 59, '_sandbox': 60, '_mdnsresponder': 65, '_ard': 67, '_www': 70, '_eppc': 71, '_cvs': 72, '_svn': 73, '_mysql': 74, '_sshd': 75, '_qtss': 76, '_cyrus': 77, '_mailman': 78, '_appserver': 79, '_clamav': 82, '_amavisd': 83, '_jabber': 84, '_appowner': 87, '_windowserver': 88, '_spotlight': 89, '_tokend': 91, '_securityagent': 92, '_calendar': 93, '_teamsserver': 94, '_update_sharing': 95, '_installer': 96, '_atsserver': 97, '_ftp': 98, '_unknown': 99, '_softwareupdate': 200, '_coreaudiod': 202, '_screensaver': 203, '_locationd': 205, '_trustevaluationagent': 208, '_timezone': 210, '_lda': 211, '_cvmsroot': 212, '_usbmuxd': 213, '_dovecot': 214, '_dpaudio': 215, '_postgres': 216, '_krbtgt': 217, '_kadmin_admin': 218, '_kadmin_changepw': 219, '_devicemgr': 220, '_webauthserver': 221, '_netbios': 222, '_warmd': 224, '_dovenull': 227, '_netstatistics': 228, '_avbdeviced': 229, '_krb_krbtgt': 230, '_krb_kadmin': 231, '_krb_changepw': 232, '_krb_kerberos': 233, '_krb_anonymous': 234, '_assetcache': 235, '_coremediaiod': 236, '_launchservicesd': 239, '_iconservices': 240, '_distnote': 241, '_nsurlsessiond': 242, '_nsurlstoraged': 243, '_displaypolicyd': 244, '_astris': 245, '_krbfast': 246, '_gamecontrollerd': 247, '_mbsetupuser': 248, '_ondemand': 249, '_xserverdocs': 251, '_wwwproxy': 252, '_mobileasset': 253, '_findmydevice': 254, '_datadetectors': 257, '_captiveagent': 258, '_ctkd': 259, '_applepay': 260, '_hidd': 261, '_cmiodalassistants': 262, '_analyticsd': 263, '_fpsd': 265, '_timed': 266, '_nearbyd': 268, '_reportmemoryexception': 269, '_driverkit': 270}\n"
     ]
    }
   ],
   "source": [
    "print(passwd_to_dict('/etc/passwd'))"
   ]
  },
  {
   "cell_type": "markdown",
   "metadata": {},
   "source": [
    "### Word Count Function"
   ]
  },
  {
   "cell_type": "markdown",
   "metadata": {},
   "source": [
    "function will take a filename as input and will print four lines of output:\n",
    "\n",
    " - Number of characters (including whitespace)\n",
    " - Number of words (separated by whitespace)\n",
    " - Number of lines\n",
    " - Number of unique words (case sensitive, so “NO” is different from “no”)"
   ]
  },
  {
   "cell_type": "code",
   "execution_count": 17,
   "metadata": {
    "ExecuteTime": {
     "end_time": "2020-07-08T15:02:56.433175Z",
     "start_time": "2020-07-08T15:02:56.429805Z"
    }
   },
   "outputs": [],
   "source": [
    "def word_count(file):\n",
    "    wordcount = {char_count : 0, no_words: 0, no_lines:0, unique_words: 0 }\n",
    "    if file:\n",
    "        with open(file, 'r') as f:\n",
    "            for line in f:\n",
    "                pass\n",
    "                \n",
    "                "
   ]
  },
  {
   "cell_type": "markdown",
   "metadata": {},
   "source": [
    "### Directory listings"
   ]
  },
  {
   "cell_type": "code",
   "execution_count": 11,
   "metadata": {
    "ExecuteTime": {
     "end_time": "2020-07-09T04:08:36.596286Z",
     "start_time": "2020-07-09T04:08:36.592109Z"
    }
   },
   "outputs": [
    {
     "data": {
      "text/plain": [
       "['/etc/syslog.conf',\n",
       " '/etc/kern_loader.conf',\n",
       " '/etc/rtadvd.conf',\n",
       " '/etc/pf.conf',\n",
       " '/etc/autofs.conf',\n",
       " '/etc/ntp_opendirectory.conf',\n",
       " '/etc/resolv.conf',\n",
       " '/etc/nfs.conf',\n",
       " '/etc/asl.conf',\n",
       " '/etc/ntp.conf',\n",
       " '/etc/man.conf',\n",
       " '/etc/newsyslog.conf',\n",
       " '/etc/notify.conf']"
      ]
     },
     "execution_count": 11,
     "metadata": {},
     "output_type": "execute_result"
    }
   ],
   "source": [
    "import glob\n",
    "\n",
    "filenames = glob.glob('/etc/*.conf')\n",
    "filenames"
   ]
  },
  {
   "cell_type": "markdown",
   "metadata": {},
   "source": [
    "only dir listing under dir-'misc' "
   ]
  },
  {
   "cell_type": "code",
   "execution_count": 12,
   "metadata": {
    "ExecuteTime": {
     "end_time": "2020-07-09T04:08:38.137735Z",
     "start_time": "2020-07-09T04:08:38.133573Z"
    }
   },
   "outputs": [
    {
     "data": {
      "text/plain": [
       "['/Users/manishgarg/misc/dir2/',\n",
       " '/Users/manishgarg/misc/scores/',\n",
       " '/Users/manishgarg/misc/dir1/']"
      ]
     },
     "execution_count": 12,
     "metadata": {},
     "output_type": "execute_result"
    }
   ],
   "source": [
    "filenames = glob.glob('/Users/manishgarg/misc/*/',recursive=True)\n",
    "filenames\n",
    "\n"
   ]
  },
  {
   "cell_type": "markdown",
   "metadata": {},
   "source": [
    " dir and files listing under dir-'misc'"
   ]
  },
  {
   "cell_type": "code",
   "execution_count": 14,
   "metadata": {
    "ExecuteTime": {
     "end_time": "2020-07-09T04:09:58.369644Z",
     "start_time": "2020-07-09T04:09:58.365549Z"
    }
   },
   "outputs": [
    {
     "data": {
      "text/plain": [
       "['/Users/manishgarg/misc/dir2',\n",
       " '/Users/manishgarg/misc/reverse_passwd.txt',\n",
       " '/Users/manishgarg/misc/scores',\n",
       " '/Users/manishgarg/misc/dir1']"
      ]
     },
     "execution_count": 14,
     "metadata": {},
     "output_type": "execute_result"
    }
   ],
   "source": [
    "filenames = glob.glob('/Users/manishgarg/misc/*',recursive=True)\n",
    "filenames"
   ]
  },
  {
   "cell_type": "markdown",
   "metadata": {},
   "source": [
    "#### List of files in directory and sub directories"
   ]
  },
  {
   "cell_type": "code",
   "execution_count": 28,
   "metadata": {
    "ExecuteTime": {
     "end_time": "2020-07-09T04:21:54.703331Z",
     "start_time": "2020-07-09T04:21:54.698192Z"
    }
   },
   "outputs": [],
   "source": [
    "import os\n",
    "'''\n",
    "    For the given path, get the List of all files in the directory tree \n",
    "'''\n",
    "def getListOfFiles(dirName):\n",
    "    # create a list of file and sub directories \n",
    "    # names in the given directory \n",
    "    # Gives List of all files & dir under dirName\n",
    "    listOfFile = os.listdir(dirName)\n",
    "    print('----------------------------------------')\n",
    "    print(f'List of all files & dir under {dirName}')\n",
    "    print('----------------------------------------')\n",
    "    print(listOfFile)    \n",
    "    allFiles = list()\n",
    "    # Iterate over all the entries\n",
    "    for entry in listOfFile:\n",
    "        # Create full path\n",
    "        fullPath = os.path.join(dirName, entry)\n",
    "        print(f'fullPath is {fullPath}') \n",
    "        # If entry is a directory then get the list of files in this directory \n",
    "        if os.path.isdir(fullPath):\n",
    "            allFiles = allFiles + getListOfFiles(fullPath)\n",
    "        else:\n",
    "            allFiles.append(fullPath)\n",
    "                \n",
    "    return allFiles"
   ]
  },
  {
   "cell_type": "code",
   "execution_count": 29,
   "metadata": {
    "ExecuteTime": {
     "end_time": "2020-07-09T04:21:55.445567Z",
     "start_time": "2020-07-09T04:21:55.438746Z"
    }
   },
   "outputs": [
    {
     "name": "stdout",
     "output_type": "stream",
     "text": [
      "----------------------------------------\n",
      "List of all files & dir under /Users/manishgarg/misc\n",
      "----------------------------------------\n",
      "['.DS_Store', 'dir2', 'reverse_passwd.txt', 'scores', 'dir1']\n",
      "fullPath is /Users/manishgarg/misc/.DS_Store\n",
      "fullPath is /Users/manishgarg/misc/dir2\n",
      "----------------------------------------\n",
      "List of all files & dir under /Users/manishgarg/misc/dir2\n",
      "----------------------------------------\n",
      "['nums.txt', 'output.txt']\n",
      "fullPath is /Users/manishgarg/misc/dir2/nums.txt\n",
      "fullPath is /Users/manishgarg/misc/dir2/output.txt\n",
      "fullPath is /Users/manishgarg/misc/reverse_passwd.txt\n",
      "fullPath is /Users/manishgarg/misc/scores\n",
      "----------------------------------------\n",
      "List of all files & dir under /Users/manishgarg/misc/scores\n",
      "----------------------------------------\n",
      "['9b.json', '9a.json', 'json-files.zip']\n",
      "fullPath is /Users/manishgarg/misc/scores/9b.json\n",
      "fullPath is /Users/manishgarg/misc/scores/9a.json\n",
      "fullPath is /Users/manishgarg/misc/scores/json-files.zip\n",
      "fullPath is /Users/manishgarg/misc/dir1\n",
      "----------------------------------------\n",
      "List of all files & dir under /Users/manishgarg/misc/dir1\n",
      "----------------------------------------\n",
      "['passwd.csv', 'output.csv']\n",
      "fullPath is /Users/manishgarg/misc/dir1/passwd.csv\n",
      "fullPath is /Users/manishgarg/misc/dir1/output.csv\n"
     ]
    },
    {
     "data": {
      "text/plain": [
       "['/Users/manishgarg/misc/.DS_Store',\n",
       " '/Users/manishgarg/misc/dir2/nums.txt',\n",
       " '/Users/manishgarg/misc/dir2/output.txt',\n",
       " '/Users/manishgarg/misc/reverse_passwd.txt',\n",
       " '/Users/manishgarg/misc/scores/9b.json',\n",
       " '/Users/manishgarg/misc/scores/9a.json',\n",
       " '/Users/manishgarg/misc/scores/json-files.zip',\n",
       " '/Users/manishgarg/misc/dir1/passwd.csv',\n",
       " '/Users/manishgarg/misc/dir1/output.csv']"
      ]
     },
     "execution_count": 29,
     "metadata": {},
     "output_type": "execute_result"
    }
   ],
   "source": [
    "getListOfFiles('/Users/manishgarg/misc')"
   ]
  },
  {
   "cell_type": "markdown",
   "metadata": {},
   "source": [
    "#### list of files in directory and sub directories using os.walk()\n",
    "\n",
    "Python’s os module provides a function to iterate over a directory tree i.e.\n",
    "It iterates of the directory tree at give path and for each directory or sub directory it returns a tuple containing - dirname ,ListofSubDirs , ListofFiles.\n",
    "    \n",
    "    \n",
    "Iterate over the directory tree and generate a list of all the files at given path,"
   ]
  },
  {
   "cell_type": "code",
   "execution_count": 33,
   "metadata": {
    "ExecuteTime": {
     "end_time": "2020-07-09T04:33:17.521889Z",
     "start_time": "2020-07-09T04:33:17.517776Z"
    }
   },
   "outputs": [],
   "source": [
    "import os\n",
    "'''\n",
    "    For the given path, get the List of all files in the directory tree \n",
    "'''\n",
    "def getListOfFilesUsingWalk(dirName):    \n",
    "    # Get the list of all files in directory tree at given path\n",
    "    listOfFiles = list()\n",
    "    for (dirpath, dirnames, filenames) in os.walk(dirName):\n",
    "        listOfFiles += [os.path.join(dirpath, file) for file in filenames]\n",
    "        \n",
    "        \n",
    "    # Print the files    \n",
    "    for elem in listOfFiles:\n",
    "        print(elem)    "
   ]
  },
  {
   "cell_type": "code",
   "execution_count": 37,
   "metadata": {
    "ExecuteTime": {
     "end_time": "2020-07-09T04:38:16.558966Z",
     "start_time": "2020-07-09T04:38:16.555671Z"
    }
   },
   "outputs": [
    {
     "name": "stdout",
     "output_type": "stream",
     "text": [
      "/Users/manishgarg/misc/.DS_Store\n",
      "/Users/manishgarg/misc/reverse_passwd.txt\n",
      "/Users/manishgarg/misc/dir2/nums.txt\n",
      "/Users/manishgarg/misc/dir2/output.txt\n",
      "/Users/manishgarg/misc/scores/9b.json\n",
      "/Users/manishgarg/misc/scores/9a.json\n",
      "/Users/manishgarg/misc/scores/json-files.zip\n",
      "/Users/manishgarg/misc/dir1/passwd.csv\n",
      "/Users/manishgarg/misc/dir1/output.csv\n"
     ]
    }
   ],
   "source": [
    "getListOfFilesUsingWalk('/Users/manishgarg/misc')"
   ]
  },
  {
   "cell_type": "markdown",
   "metadata": {},
   "source": [
    "#### list of all files with a specific extension \n",
    "\n",
    "we will take a path of a directory and try to list all the files, with a specific extension .py here, in the directory and its sub-directories recursively."
   ]
  },
  {
   "cell_type": "code",
   "execution_count": 41,
   "metadata": {
    "ExecuteTime": {
     "end_time": "2020-07-09T04:38:47.432100Z",
     "start_time": "2020-07-09T04:38:47.428480Z"
    }
   },
   "outputs": [],
   "source": [
    "import os\n",
    "\n",
    "def getListOfFilesWithExtn(path, extension): \n",
    "    for root, dirs, files in os.walk(path):\n",
    "        for file in files:\n",
    "            if(file.endswith(extension)):\n",
    "                print(os.path.join(root,file))"
   ]
  },
  {
   "cell_type": "code",
   "execution_count": 42,
   "metadata": {
    "ExecuteTime": {
     "end_time": "2020-07-09T04:38:47.988470Z",
     "start_time": "2020-07-09T04:38:47.984470Z"
    }
   },
   "outputs": [
    {
     "name": "stdout",
     "output_type": "stream",
     "text": [
      "/Users/manishgarg/misc/reverse_passwd.txt\n",
      "/Users/manishgarg/misc/dir2/nums.txt\n",
      "/Users/manishgarg/misc/dir2/output.txt\n"
     ]
    }
   ],
   "source": [
    "getListOfFilesWithExtn('/Users/manishgarg/misc', '.txt')"
   ]
  },
  {
   "cell_type": "markdown",
   "metadata": {},
   "source": [
    "#### Reading from CSV"
   ]
  },
  {
   "cell_type": "code",
   "execution_count": 49,
   "metadata": {
    "ExecuteTime": {
     "end_time": "2020-07-09T04:53:50.171576Z",
     "start_time": "2020-07-09T04:53:50.169184Z"
    }
   },
   "outputs": [],
   "source": [
    "import pandas as pd"
   ]
  },
  {
   "cell_type": "code",
   "execution_count": 50,
   "metadata": {
    "ExecuteTime": {
     "end_time": "2020-07-09T04:53:50.671305Z",
     "start_time": "2020-07-09T04:53:50.666970Z"
    }
   },
   "outputs": [],
   "source": [
    "df_csv  = pd.read_csv('output.csv',delimiter='\\t',header=None)"
   ]
  },
  {
   "cell_type": "code",
   "execution_count": 51,
   "metadata": {
    "ExecuteTime": {
     "end_time": "2020-07-09T04:53:51.203368Z",
     "start_time": "2020-07-09T04:53:51.196892Z"
    }
   },
   "outputs": [
    {
     "data": {
      "text/html": [
       "<div>\n",
       "<style scoped>\n",
       "    .dataframe tbody tr th:only-of-type {\n",
       "        vertical-align: middle;\n",
       "    }\n",
       "\n",
       "    .dataframe tbody tr th {\n",
       "        vertical-align: top;\n",
       "    }\n",
       "\n",
       "    .dataframe thead th {\n",
       "        text-align: right;\n",
       "    }\n",
       "</style>\n",
       "<table border=\"1\" class=\"dataframe\">\n",
       "  <thead>\n",
       "    <tr style=\"text-align: right;\">\n",
       "      <th></th>\n",
       "      <th>0</th>\n",
       "      <th>1</th>\n",
       "    </tr>\n",
       "  </thead>\n",
       "  <tbody>\n",
       "    <tr>\n",
       "      <th>0</th>\n",
       "      <td>root</td>\n",
       "      <td>0</td>\n",
       "    </tr>\n",
       "    <tr>\n",
       "      <th>1</th>\n",
       "      <td>daemon</td>\n",
       "      <td>1</td>\n",
       "    </tr>\n",
       "    <tr>\n",
       "      <th>2</th>\n",
       "      <td>bin</td>\n",
       "      <td>2</td>\n",
       "    </tr>\n",
       "    <tr>\n",
       "      <th>3</th>\n",
       "      <td>sys</td>\n",
       "      <td>3</td>\n",
       "    </tr>\n",
       "    <tr>\n",
       "      <th>4</th>\n",
       "      <td>sync</td>\n",
       "      <td>4</td>\n",
       "    </tr>\n",
       "    <tr>\n",
       "      <th>5</th>\n",
       "      <td>games</td>\n",
       "      <td>5</td>\n",
       "    </tr>\n",
       "    <tr>\n",
       "      <th>6</th>\n",
       "      <td>man</td>\n",
       "      <td>6</td>\n",
       "    </tr>\n",
       "    <tr>\n",
       "      <th>7</th>\n",
       "      <td>lp</td>\n",
       "      <td>7</td>\n",
       "    </tr>\n",
       "    <tr>\n",
       "      <th>8</th>\n",
       "      <td>mail</td>\n",
       "      <td>8</td>\n",
       "    </tr>\n",
       "    <tr>\n",
       "      <th>9</th>\n",
       "      <td>atara</td>\n",
       "      <td>1004</td>\n",
       "    </tr>\n",
       "    <tr>\n",
       "      <th>10</th>\n",
       "      <td>shikma</td>\n",
       "      <td>1005</td>\n",
       "    </tr>\n",
       "    <tr>\n",
       "      <th>11</th>\n",
       "      <td>amotz</td>\n",
       "      <td>1006</td>\n",
       "    </tr>\n",
       "  </tbody>\n",
       "</table>\n",
       "</div>"
      ],
      "text/plain": [
       "         0     1\n",
       "0     root     0\n",
       "1   daemon     1\n",
       "2      bin     2\n",
       "3      sys     3\n",
       "4     sync     4\n",
       "5    games     5\n",
       "6      man     6\n",
       "7       lp     7\n",
       "8     mail     8\n",
       "9    atara  1004\n",
       "10  shikma  1005\n",
       "11   amotz  1006"
      ]
     },
     "execution_count": 51,
     "metadata": {},
     "output_type": "execute_result"
    }
   ],
   "source": [
    "df_csv"
   ]
  },
  {
   "cell_type": "markdown",
   "metadata": {},
   "source": [
    "### Reading from Json "
   ]
  },
  {
   "cell_type": "code",
   "execution_count": 53,
   "metadata": {
    "ExecuteTime": {
     "end_time": "2020-07-09T04:54:49.910687Z",
     "start_time": "2020-07-09T04:54:49.901893Z"
    }
   },
   "outputs": [],
   "source": [
    "df_json = pd.read_json('./scores/9a.json')"
   ]
  },
  {
   "cell_type": "code",
   "execution_count": 54,
   "metadata": {
    "ExecuteTime": {
     "end_time": "2020-07-09T04:54:50.860192Z",
     "start_time": "2020-07-09T04:54:50.854704Z"
    }
   },
   "outputs": [
    {
     "data": {
      "text/html": [
       "<div>\n",
       "<style scoped>\n",
       "    .dataframe tbody tr th:only-of-type {\n",
       "        vertical-align: middle;\n",
       "    }\n",
       "\n",
       "    .dataframe tbody tr th {\n",
       "        vertical-align: top;\n",
       "    }\n",
       "\n",
       "    .dataframe thead th {\n",
       "        text-align: right;\n",
       "    }\n",
       "</style>\n",
       "<table border=\"1\" class=\"dataframe\">\n",
       "  <thead>\n",
       "    <tr style=\"text-align: right;\">\n",
       "      <th></th>\n",
       "      <th>math</th>\n",
       "      <th>literature</th>\n",
       "      <th>science</th>\n",
       "    </tr>\n",
       "  </thead>\n",
       "  <tbody>\n",
       "    <tr>\n",
       "      <th>0</th>\n",
       "      <td>90</td>\n",
       "      <td>98</td>\n",
       "      <td>97</td>\n",
       "    </tr>\n",
       "    <tr>\n",
       "      <th>1</th>\n",
       "      <td>65</td>\n",
       "      <td>79</td>\n",
       "      <td>85</td>\n",
       "    </tr>\n",
       "    <tr>\n",
       "      <th>2</th>\n",
       "      <td>78</td>\n",
       "      <td>83</td>\n",
       "      <td>75</td>\n",
       "    </tr>\n",
       "    <tr>\n",
       "      <th>3</th>\n",
       "      <td>92</td>\n",
       "      <td>78</td>\n",
       "      <td>85</td>\n",
       "    </tr>\n",
       "    <tr>\n",
       "      <th>4</th>\n",
       "      <td>100</td>\n",
       "      <td>80</td>\n",
       "      <td>90</td>\n",
       "    </tr>\n",
       "  </tbody>\n",
       "</table>\n",
       "</div>"
      ],
      "text/plain": [
       "   math  literature  science\n",
       "0    90          98       97\n",
       "1    65          79       85\n",
       "2    78          83       75\n",
       "3    92          78       85\n",
       "4   100          80       90"
      ]
     },
     "execution_count": 54,
     "metadata": {},
     "output_type": "execute_result"
    }
   ],
   "source": [
    "df_json"
   ]
  },
  {
   "cell_type": "code",
   "execution_count": null,
   "metadata": {},
   "outputs": [],
   "source": []
  }
 ],
 "metadata": {
  "kernelspec": {
   "display_name": "Python 3",
   "language": "python",
   "name": "python3"
  },
  "language_info": {
   "codemirror_mode": {
    "name": "ipython",
    "version": 3
   },
   "file_extension": ".py",
   "mimetype": "text/x-python",
   "name": "python",
   "nbconvert_exporter": "python",
   "pygments_lexer": "ipython3",
   "version": "3.8.3"
  },
  "varInspector": {
   "cols": {
    "lenName": 16,
    "lenType": 16,
    "lenVar": 40
   },
   "kernels_config": {
    "python": {
     "delete_cmd_postfix": "",
     "delete_cmd_prefix": "del ",
     "library": "var_list.py",
     "varRefreshCmd": "print(var_dic_list())"
    },
    "r": {
     "delete_cmd_postfix": ") ",
     "delete_cmd_prefix": "rm(",
     "library": "var_list.r",
     "varRefreshCmd": "cat(var_dic_list()) "
    }
   },
   "types_to_exclude": [
    "module",
    "function",
    "builtin_function_or_method",
    "instance",
    "_Feature"
   ],
   "window_display": false
  }
 },
 "nbformat": 4,
 "nbformat_minor": 4
}
