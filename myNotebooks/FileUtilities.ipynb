{
 "cells": [
  {
   "cell_type": "markdown",
   "metadata": {
    "ExecuteTime": {
     "end_time": "2020-07-08T12:56:52.082980Z",
     "start_time": "2020-07-08T12:56:52.079220Z"
    }
   },
   "source": [
    "# Files Utilities"
   ]
  },
  {
   "cell_type": "markdown",
   "metadata": {},
   "source": [
    "### Read  Last N lines of a file"
   ]
  },
  {
   "cell_type": "code",
   "execution_count": 5,
   "metadata": {
    "ExecuteTime": {
     "end_time": "2020-07-08T13:09:48.823832Z",
     "start_time": "2020-07-08T13:09:48.819450Z"
    }
   },
   "outputs": [],
   "source": [
    "def get_final_line(filename,N) -> str:\n",
    "    last_line = ''\n",
    "    if filename:\n",
    "        with open(filename, 'r') as f:\n",
    "           # loop to read iterate  \n",
    "            # last n lines and print it\n",
    "            lines = f.read().splitlines()\n",
    "            for line in lines[-N:]:\n",
    "                print(line)\n",
    "            \n",
    "        \n",
    "        \n",
    "    "
   ]
  },
  {
   "cell_type": "code",
   "execution_count": 8,
   "metadata": {
    "ExecuteTime": {
     "end_time": "2020-07-08T13:11:13.525280Z",
     "start_time": "2020-07-08T13:11:13.522010Z"
    }
   },
   "outputs": [
    {
     "name": "stdout",
     "output_type": "stream",
     "text": [
      "_reportmemoryexception:*:269:269:ReportMemoryException:/var/db/reportmemoryexception:/usr/bin/false\n",
      "_driverkit:*:270:270:DriverKit:/var/empty:/usr/bin/false\n"
     ]
    }
   ],
   "source": [
    "get_final_line('/etc/passwd',2)"
   ]
  },
  {
   "cell_type": "markdown",
   "metadata": {},
   "source": [
    "### Read  first and last lines of a file"
   ]
  },
  {
   "cell_type": "code",
   "execution_count": 11,
   "metadata": {
    "ExecuteTime": {
     "end_time": "2020-07-08T13:16:53.490533Z",
     "start_time": "2020-07-08T13:16:53.486711Z"
    }
   },
   "outputs": [
    {
     "name": "stdout",
     "output_type": "stream",
     "text": [
      "first line -> This is the first line.\n",
      "\n",
      "last line -> This is the last line.\n"
     ]
    }
   ],
   "source": [
    "with open(\"sample.txt\", \"r\") as file:\n",
    "    first_line = file.readline()\n",
    "    for last_line in file:\n",
    "        pass\n",
    "print(f'first line -> {first_line}')\n",
    "print(f'last line -> {last_line}')"
   ]
  },
  {
   "cell_type": "markdown",
   "metadata": {},
   "source": [
    "### Read binary file \n",
    "\n",
    "In binary file we donot read the file per line. Instead, we should be using the read method to retrieve a fixed number of bytes. When read returns 0 bytes, we’ll know that we’re at the end of the file"
   ]
  },
  {
   "cell_type": "code",
   "execution_count": 14,
   "metadata": {
    "ExecuteTime": {
     "end_time": "2020-07-08T13:34:51.404011Z",
     "start_time": "2020-07-08T13:34:51.400958Z"
    }
   },
   "outputs": [],
   "source": [
    "def readbinary_file(filename, CHUNKSIZE):\n",
    "    with open(\"filename\", \"rb\") as f:\n",
    "        bytes_read = f.read(CHUNKSIZE)\n",
    "        while bytes_read:\n",
    "            for b in bytes_read:\n",
    "                process_byte(b)\n",
    "            bytes_read = f.read(CHUNKSIZE)"
   ]
  },
  {
   "cell_type": "code",
   "execution_count": null,
   "metadata": {},
   "outputs": [],
   "source": []
  }
 ],
 "metadata": {
  "kernelspec": {
   "display_name": "Python 3",
   "language": "python",
   "name": "python3"
  },
  "language_info": {
   "codemirror_mode": {
    "name": "ipython",
    "version": 3
   },
   "file_extension": ".py",
   "mimetype": "text/x-python",
   "name": "python",
   "nbconvert_exporter": "python",
   "pygments_lexer": "ipython3",
   "version": "3.8.3"
  },
  "varInspector": {
   "cols": {
    "lenName": 16,
    "lenType": 16,
    "lenVar": 40
   },
   "kernels_config": {
    "python": {
     "delete_cmd_postfix": "",
     "delete_cmd_prefix": "del ",
     "library": "var_list.py",
     "varRefreshCmd": "print(var_dic_list())"
    },
    "r": {
     "delete_cmd_postfix": ") ",
     "delete_cmd_prefix": "rm(",
     "library": "var_list.r",
     "varRefreshCmd": "cat(var_dic_list()) "
    }
   },
   "types_to_exclude": [
    "module",
    "function",
    "builtin_function_or_method",
    "instance",
    "_Feature"
   ],
   "window_display": false
  }
 },
 "nbformat": 4,
 "nbformat_minor": 4
}
